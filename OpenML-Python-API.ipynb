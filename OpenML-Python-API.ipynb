{
 "cells": [
  {
   "cell_type": "markdown",
   "metadata": {
    "id": "8TQSYrLRbPuc"
   },
   "source": [
    "# OpenML Datasets"
   ]
  },
  {
   "cell_type": "code",
   "execution_count": 1,
   "metadata": {
    "id": "ZYILdzb6ZK6J"
   },
   "outputs": [],
   "source": [
    "!pip install -U pip numpy pandas jupyter\n",
    "!pip install -U openml\n",
    "!pip install seaborn"
   ]
  },
  {
   "cell_type": "code",
   "execution_count": 2,
   "metadata": {},
   "outputs": [
    {
     "name": "stderr",
     "output_type": "stream",
     "text": [
      "C:\\Users\\nanos\\miniconda3\\lib\\site-packages\\numpy\\_distributor_init.py:30: UserWarning: loaded more than 1 DLL from .libs:\n",
      "C:\\Users\\nanos\\miniconda3\\lib\\site-packages\\numpy\\.libs\\libopenblas.GK7GX5KEQ4F6UYO3P26ULGBQYHGQO7J4.gfortran-win_amd64.dll\n",
      "C:\\Users\\nanos\\miniconda3\\lib\\site-packages\\numpy\\.libs\\libopenblas.XWYDX2IKJW2NMTWSFYNGFUWKQU3LYTCZ.gfortran-win_amd64.dll\n",
      "  warnings.warn(\"loaded more than 1 DLL from .libs:\"\n"
     ]
    }
   ],
   "source": [
    "import pandas as pd\n",
    "import numpy as np\n",
    "import seaborn as sn\n",
    "import matplotlib.pyplot as plt\n",
    "\n",
    "from sklearn.model_selection import train_test_split, cross_val_score\n",
    "from sklearn.naive_bayes import GaussianNB \n",
    "from sklearn.metrics import classification_report, confusion_matrix, accuracy_score, f1_score\n",
    "from sklearn.neighbors import KNeighborsClassifier \n",
    "from sklearn.linear_model import LogisticRegression\n",
    "from sklearn.neural_network import MLPClassifier\n",
    "from sklearn.svm import SVC\n",
    "from sklearn.dummy import DummyClassifier\n",
    "from sklearn.decomposition import PCA\n",
    "\n",
    "from sklearn.utils._testing import ignore_warnings\n",
    "from sklearn.exceptions import ConvergenceWarning\n",
    "\n",
    "import time\n",
    "import warnings\n",
    "warnings.simplefilter(action='ignore', category=FutureWarning)"
   ]
  },
  {
   "cell_type": "markdown",
   "metadata": {
    "id": "AfIJDdxkQBse",
    "nbpresent": {
     "id": "22990c96-6359-4864-bfc4-eb4c3c5a1ec1"
    }
   },
   "source": [
    "## Authentication\n",
    "\n",
    "You first need to find your API key.\n",
    "\n",
    "* Create an OpenML account (free) on http://www.openml.org. \n",
    "* Log in, click your avatar/picture, open 'API authentication'.\n",
    "* Your API key is a secret 32-character string"
   ]
  },
  {
   "cell_type": "markdown",
   "metadata": {
    "id": "vQDvlm3IQBsf"
   },
   "source": [
    "You can copy this API key into your code (but only if you never share it):"
   ]
  },
  {
   "cell_type": "code",
   "execution_count": 3,
   "metadata": {
    "id": "5ydtzFKwQBsf"
   },
   "outputs": [],
   "source": [
    "# Uncomment and set your OpenML key. \n",
    "import openml as oml\n",
    "# Replace the foloowing string with yout API key\n",
    "oml.config.apikey = '5ffe699b268a9320e6d7daae89758124'"
   ]
  },
  {
   "cell_type": "code",
   "execution_count": 4,
   "metadata": {
    "id": "tRL-2QpuaF66"
   },
   "outputs": [],
   "source": [
    "# Making sure we are using the right settings\n",
    "oml.config.server = 'https://www.openml.org/api/v1/xml' \n",
    "oml.config.apikey = '5ffe699b268a9320e6d7daae89758124'\n",
    "# Suppress sklearn warnings\n",
    "import warnings\n",
    "warnings.simplefilter(action=\"ignore\", category=DeprecationWarning)"
   ]
  },
  {
   "cell_type": "markdown",
   "metadata": {
    "id": "TZElMK9bbZlK"
   },
   "source": [
    "## Import Dataset"
   ]
  },
  {
   "cell_type": "markdown",
   "metadata": {
    "id": "I2bqD5jiQBsp",
    "nbpresent": {
     "id": "7b58c1f7-3484-4e26-b6b5-67ed6f99b9e9"
    }
   },
   "source": [
    "`datasets.get_dataset(data_id)` returns an `OpenMLData` object with the dataset and meta-data."
   ]
  },
  {
   "cell_type": "code",
   "execution_count": 5,
   "metadata": {
    "id": "HsCH78NlQBsq",
    "nbpresent": {
     "id": "d377efff-2484-4ac3-8706-6434644949fd"
    }
   },
   "outputs": [
    {
     "name": "stdout",
     "output_type": "stream",
     "text": [
      "This is dataset 'dna', the target feature is 'class'\n",
      "URL: https://www.openml.org/data/v1/download/4965245/dna.arff\n",
      "**Author**: Ross King, based on data from Genbank 64.1  \n",
      "\n",
      "**Source**: [MLbench](https://www.rdocumentation.org/packages/mlbench/versions/2.1-1/topics/DNA). Originally from the StatLog project.  \n",
      "\n",
      "**Please Cite**:   \n",
      "\n",
      "\n",
      "\n",
      "**Primate Splice-Junction Gene Sequences (DNA)**  \n",
      "\n",
      "Originally from the StatLog project. The raw data is still available on [UCI](https://archive.ics.uci.edu/ml/datasets/Molecular+Biology+(Splice-junction+Gene+Sequences)).\n",
      "\n",
      "\n",
      "\n",
      "The data consists of 3,186 data points (splice junctions). The data points are described by 180 indicator binary variables and the problem is to recognize the 3 classes (ei, ie, neither), i.e., the boundaries between exons (the parts of the DNA sequence retained after splicing) and introns (the parts of the DNA sequence that are spliced out). The StatLog DNA dataset is a processed version of the [Irvine database]((https://archive.ics.uci.edu/ml/datasets/Molecular+Biology+(Splice-junction+Gene+Sequences))). The main difference is that the symbolic variables representing the nucleotides (only A,G,T,C) were replaced by 3 binary indicator variables. Thus the original 60 symbolic attributes were changed into 180 binary attributes. The names of the examples were removed. The examples with ambiguities were removed (there was very few of them, 4). The StatLog version of this dataset was produced by Ross King at Strathclyde University. For original details see the Irvine database documentation.\n",
      "\n",
      "\n",
      "\n",
      "The nucleotides A,C,G,T were given indicator values as follows:\n",
      "\n",
      "A -> 1 0 0\n",
      "\n",
      "C -> 0 1 0\n",
      "\n",
      "G -> 0 0 1\n",
      "\n",
      "T -> 0 0 0\n",
      "\n",
      "\n",
      "\n",
      "Hint: Much better performance is generally observed if attributes closest to the junction are used. In the StatLog version, this means using attributes A61 to A120 only.\n"
     ]
    }
   ],
   "source": [
    "# This is done based on the dataset ID.\n",
    "# Replace with yours\n",
    "\n",
    "dataset = oml.datasets.get_dataset(40670)\n",
    "\n",
    "# Print a summary\n",
    "print(\n",
    "    f\"This is dataset '{dataset.name}', the target feature is \"\n",
    "    f\"'{dataset.default_target_attribute}'\"\n",
    ")\n",
    "print(f\"URL: {dataset.url}\")\n",
    "print(dataset.description[::])"
   ]
  },
  {
   "cell_type": "markdown",
   "metadata": {
    "id": "ag4_fZfUQBsq",
    "nbpresent": {
     "id": "a80f9990-e073-48e6-9df3-4e27f5db74f7"
    }
   },
   "source": [
    "#### Get the data itself\n",
    "`OpenMLData.getdata()` returns the actual data as numpy arrays. "
   ]
  },
  {
   "cell_type": "code",
   "execution_count": 6,
   "metadata": {
    "id": "Ojwjgv26QBsr",
    "nbpresent": {
     "id": "ab60383f-fc6d-4ca0-80f7-55ece02a0ac4"
    }
   },
   "outputs": [
    {
     "name": "stdout",
     "output_type": "stream",
     "text": [
      "    A0   A1   A2   A3   A4   A5   A6   A7   A8   A9  ...  A171  A172  A173  \\\n",
      "0  0.0  1.0  0.0  0.0  0.0  0.0  1.0  0.0  0.0  0.0  ...   1.0   0.0   0.0   \n",
      "1  0.0  0.0  1.0  0.0  0.0  1.0  0.0  0.0  0.0  0.0  ...   0.0   0.0   0.0   \n",
      "2  0.0  0.0  1.0  0.0  0.0  1.0  0.0  1.0  0.0  0.0  ...   0.0   1.0   0.0   \n",
      "3  0.0  0.0  0.0  0.0  0.0  0.0  0.0  1.0  0.0  0.0  ...   0.0   0.0   1.0   \n",
      "4  0.0  1.0  0.0  0.0  0.0  0.0  0.0  1.0  0.0  0.0  ...   0.0   1.0   0.0   \n",
      "5  0.0  1.0  0.0  0.0  0.0  0.0  0.0  0.0  1.0  1.0  ...   0.0   0.0   1.0   \n",
      "6  0.0  0.0  1.0  1.0  0.0  0.0  0.0  0.0  1.0  0.0  ...   1.0   0.0   0.0   \n",
      "7  1.0  0.0  0.0  1.0  0.0  0.0  0.0  0.0  1.0  0.0  ...   1.0   0.0   0.0   \n",
      "8  0.0  0.0  0.0  1.0  0.0  0.0  0.0  0.0  1.0  0.0  ...   1.0   0.0   0.0   \n",
      "9  0.0  0.0  0.0  0.0  0.0  1.0  1.0  0.0  0.0  0.0  ...   1.0   0.0   0.0   \n",
      "\n",
      "   A174  A175  A176  A177  A178  A179  class  \n",
      "0   0.0   0.0   1.0   1.0   0.0   0.0      2  \n",
      "1   1.0   0.0   0.0   0.0   1.0   0.0      2  \n",
      "2   0.0   0.0   1.0   0.0   0.0   1.0      2  \n",
      "3   0.0   0.0   1.0   0.0   0.0   1.0      0  \n",
      "4   0.0   1.0   0.0   1.0   0.0   0.0      1  \n",
      "5   0.0   1.0   0.0   0.0   1.0   0.0      1  \n",
      "6   0.0   0.0   1.0   0.0   0.0   1.0      0  \n",
      "7   1.0   0.0   0.0   1.0   0.0   0.0      2  \n",
      "8   1.0   0.0   0.0   0.0   0.0   1.0      2  \n",
      "9   0.0   1.0   0.0   1.0   0.0   0.0      2  \n",
      "\n",
      "[10 rows x 181 columns]\n"
     ]
    }
   ],
   "source": [
    "import pandas as pd\n",
    "\n",
    "X_train, y_train, categorical_indicator, attribute_names = dataset.get_data(\n",
    "    dataset_format=\"array\", target=dataset.default_target_attribute\n",
    ")\n",
    "eeg = pd.DataFrame(X_train, columns=attribute_names)\n",
    "eeg[\"class\"] = y_train\n",
    "print(eeg[:10])\n",
    "#print(eeg[::])"
   ]
  },
  {
   "cell_type": "markdown",
   "metadata": {
    "id": "lJEP7dPwQBss"
   },
   "source": [
    "#### Get the meta-data\n",
    "Every dataset comes with rich meta-data:\n",
    "* name, version, date, creator, licence, description, ...\n",
    "* `dataset.qualities` returns 100+ statistical data properties\n",
    "* `dataset.features` returns all variables and their data types\n",
    "* tags added by the OpenML community"
   ]
  },
  {
   "cell_type": "markdown",
   "metadata": {
    "id": "iyMvG_4_QBtF"
   },
   "source": [
    "## Further information\n",
    "That's it. You are now an expert in using OpenML. In case you have further questions:\n",
    "\n",
    "[OpenML Documentation](https://docs.openml.org)  \n",
    "[Python API Documentation and examples](https://openml.github.io/openml-python)"
   ]
  },
  {
   "cell_type": "markdown",
   "metadata": {},
   "source": [
    "The dataset consists of 3186 dna splice junctions. Each splice junction is described by 180 binary variables corresponding to 60 nucleotides (A, G, T, C). \n",
    "- Exons are nucleotide sequences in DNA and RNA that are conserved in mature RNA generation after the splicing process.\n",
    "\n",
    "- Introns are nucleotide sequences in DNA and RNA that do not directly encode proteins and are removed during the precursor messenger RNA (pre-mRNA) mRNA stage by RNA splicing..\n",
    "\n",
    "The problem is the recognition of the three classes\n",
    "- None \n",
    "- Exons\n",
    "- Introns\n",
    "\n",
    "Ο συμβολισμός των νουκλεοτιδίων είναι (A,G,T,C):\n",
    "\n",
    "    A -> 1 0 0\n",
    "\n",
    "    C -> 0 1 0\n",
    "\n",
    "    G -> 0 0 1\n",
    "\n",
    "    T -> 0 0 0"
   ]
  },
  {
   "cell_type": "code",
   "execution_count": 7,
   "metadata": {},
   "outputs": [
    {
     "data": {
      "text/html": [
       "<div>\n",
       "<style scoped>\n",
       "    .dataframe tbody tr th:only-of-type {\n",
       "        vertical-align: middle;\n",
       "    }\n",
       "\n",
       "    .dataframe tbody tr th {\n",
       "        vertical-align: top;\n",
       "    }\n",
       "\n",
       "    .dataframe thead th {\n",
       "        text-align: right;\n",
       "    }\n",
       "</style>\n",
       "<table border=\"1\" class=\"dataframe\">\n",
       "  <thead>\n",
       "    <tr style=\"text-align: right;\">\n",
       "      <th></th>\n",
       "      <th>A0</th>\n",
       "      <th>A1</th>\n",
       "      <th>A2</th>\n",
       "      <th>A3</th>\n",
       "      <th>A4</th>\n",
       "      <th>A5</th>\n",
       "      <th>A6</th>\n",
       "      <th>A7</th>\n",
       "      <th>A8</th>\n",
       "      <th>A9</th>\n",
       "      <th>...</th>\n",
       "      <th>A171</th>\n",
       "      <th>A172</th>\n",
       "      <th>A173</th>\n",
       "      <th>A174</th>\n",
       "      <th>A175</th>\n",
       "      <th>A176</th>\n",
       "      <th>A177</th>\n",
       "      <th>A178</th>\n",
       "      <th>A179</th>\n",
       "      <th>class</th>\n",
       "    </tr>\n",
       "  </thead>\n",
       "  <tbody>\n",
       "    <tr>\n",
       "      <th>0</th>\n",
       "      <td>0.0</td>\n",
       "      <td>1.0</td>\n",
       "      <td>0.0</td>\n",
       "      <td>0.0</td>\n",
       "      <td>0.0</td>\n",
       "      <td>0.0</td>\n",
       "      <td>1.0</td>\n",
       "      <td>0.0</td>\n",
       "      <td>0.0</td>\n",
       "      <td>0.0</td>\n",
       "      <td>...</td>\n",
       "      <td>1.0</td>\n",
       "      <td>0.0</td>\n",
       "      <td>0.0</td>\n",
       "      <td>0.0</td>\n",
       "      <td>0.0</td>\n",
       "      <td>1.0</td>\n",
       "      <td>1.0</td>\n",
       "      <td>0.0</td>\n",
       "      <td>0.0</td>\n",
       "      <td>2</td>\n",
       "    </tr>\n",
       "    <tr>\n",
       "      <th>1</th>\n",
       "      <td>0.0</td>\n",
       "      <td>0.0</td>\n",
       "      <td>1.0</td>\n",
       "      <td>0.0</td>\n",
       "      <td>0.0</td>\n",
       "      <td>1.0</td>\n",
       "      <td>0.0</td>\n",
       "      <td>0.0</td>\n",
       "      <td>0.0</td>\n",
       "      <td>0.0</td>\n",
       "      <td>...</td>\n",
       "      <td>0.0</td>\n",
       "      <td>0.0</td>\n",
       "      <td>0.0</td>\n",
       "      <td>1.0</td>\n",
       "      <td>0.0</td>\n",
       "      <td>0.0</td>\n",
       "      <td>0.0</td>\n",
       "      <td>1.0</td>\n",
       "      <td>0.0</td>\n",
       "      <td>2</td>\n",
       "    </tr>\n",
       "    <tr>\n",
       "      <th>2</th>\n",
       "      <td>0.0</td>\n",
       "      <td>0.0</td>\n",
       "      <td>1.0</td>\n",
       "      <td>0.0</td>\n",
       "      <td>0.0</td>\n",
       "      <td>1.0</td>\n",
       "      <td>0.0</td>\n",
       "      <td>1.0</td>\n",
       "      <td>0.0</td>\n",
       "      <td>0.0</td>\n",
       "      <td>...</td>\n",
       "      <td>0.0</td>\n",
       "      <td>1.0</td>\n",
       "      <td>0.0</td>\n",
       "      <td>0.0</td>\n",
       "      <td>0.0</td>\n",
       "      <td>1.0</td>\n",
       "      <td>0.0</td>\n",
       "      <td>0.0</td>\n",
       "      <td>1.0</td>\n",
       "      <td>2</td>\n",
       "    </tr>\n",
       "    <tr>\n",
       "      <th>3</th>\n",
       "      <td>0.0</td>\n",
       "      <td>0.0</td>\n",
       "      <td>0.0</td>\n",
       "      <td>0.0</td>\n",
       "      <td>0.0</td>\n",
       "      <td>0.0</td>\n",
       "      <td>0.0</td>\n",
       "      <td>1.0</td>\n",
       "      <td>0.0</td>\n",
       "      <td>0.0</td>\n",
       "      <td>...</td>\n",
       "      <td>0.0</td>\n",
       "      <td>0.0</td>\n",
       "      <td>1.0</td>\n",
       "      <td>0.0</td>\n",
       "      <td>0.0</td>\n",
       "      <td>1.0</td>\n",
       "      <td>0.0</td>\n",
       "      <td>0.0</td>\n",
       "      <td>1.0</td>\n",
       "      <td>0</td>\n",
       "    </tr>\n",
       "    <tr>\n",
       "      <th>4</th>\n",
       "      <td>0.0</td>\n",
       "      <td>1.0</td>\n",
       "      <td>0.0</td>\n",
       "      <td>0.0</td>\n",
       "      <td>0.0</td>\n",
       "      <td>0.0</td>\n",
       "      <td>0.0</td>\n",
       "      <td>1.0</td>\n",
       "      <td>0.0</td>\n",
       "      <td>0.0</td>\n",
       "      <td>...</td>\n",
       "      <td>0.0</td>\n",
       "      <td>1.0</td>\n",
       "      <td>0.0</td>\n",
       "      <td>0.0</td>\n",
       "      <td>1.0</td>\n",
       "      <td>0.0</td>\n",
       "      <td>1.0</td>\n",
       "      <td>0.0</td>\n",
       "      <td>0.0</td>\n",
       "      <td>1</td>\n",
       "    </tr>\n",
       "  </tbody>\n",
       "</table>\n",
       "<p>5 rows × 181 columns</p>\n",
       "</div>"
      ],
      "text/plain": [
       "    A0   A1   A2   A3   A4   A5   A6   A7   A8   A9  ...  A171  A172  A173  \\\n",
       "0  0.0  1.0  0.0  0.0  0.0  0.0  1.0  0.0  0.0  0.0  ...   1.0   0.0   0.0   \n",
       "1  0.0  0.0  1.0  0.0  0.0  1.0  0.0  0.0  0.0  0.0  ...   0.0   0.0   0.0   \n",
       "2  0.0  0.0  1.0  0.0  0.0  1.0  0.0  1.0  0.0  0.0  ...   0.0   1.0   0.0   \n",
       "3  0.0  0.0  0.0  0.0  0.0  0.0  0.0  1.0  0.0  0.0  ...   0.0   0.0   1.0   \n",
       "4  0.0  1.0  0.0  0.0  0.0  0.0  0.0  1.0  0.0  0.0  ...   0.0   1.0   0.0   \n",
       "\n",
       "   A174  A175  A176  A177  A178  A179  class  \n",
       "0   0.0   0.0   1.0   1.0   0.0   0.0      2  \n",
       "1   1.0   0.0   0.0   0.0   1.0   0.0      2  \n",
       "2   0.0   0.0   1.0   0.0   0.0   1.0      2  \n",
       "3   0.0   0.0   1.0   0.0   0.0   1.0      0  \n",
       "4   0.0   1.0   0.0   1.0   0.0   0.0      1  \n",
       "\n",
       "[5 rows x 181 columns]"
      ]
     },
     "execution_count": 7,
     "metadata": {},
     "output_type": "execute_result"
    }
   ],
   "source": [
    "eeg.head()"
   ]
  },
  {
   "cell_type": "code",
   "execution_count": 8,
   "metadata": {
    "scrolled": false
   },
   "outputs": [
    {
     "name": "stdout",
     "output_type": "stream",
     "text": [
      "Number of data samples is :  3186\n",
      "Number of characteristics of each sample is  181\n",
      "There exist 3 classes in column 180 of the dataset \n",
      "The labels of the classes are : [0 1 2]\n"
     ]
    }
   ],
   "source": [
    "print(\"Number of data samples is : \", len(eeg))\n",
    "print(\"Number of characteristics of each sample is \", len(eeg.iloc[0]))\n",
    "print(\"There exist {} classes in column {} of the dataset \".format(len (np.unique(eeg.iloc[:, len(eeg.iloc[0]) - 1])), len(eeg.iloc[0]) -1))\n",
    "print(\"The labels of the classes are : {}\" .format(np.unique(eeg.iloc[:, len(eeg.iloc[0]) - 1])))"
   ]
  },
  {
   "cell_type": "markdown",
   "metadata": {},
   "source": [
    "Checking for missing data"
   ]
  },
  {
   "cell_type": "code",
   "execution_count": 9,
   "metadata": {},
   "outputs": [
    {
     "data": {
      "text/html": [
       "<div>\n",
       "<style scoped>\n",
       "    .dataframe tbody tr th:only-of-type {\n",
       "        vertical-align: middle;\n",
       "    }\n",
       "\n",
       "    .dataframe tbody tr th {\n",
       "        vertical-align: top;\n",
       "    }\n",
       "\n",
       "    .dataframe thead th {\n",
       "        text-align: right;\n",
       "    }\n",
       "</style>\n",
       "<table border=\"1\" class=\"dataframe\">\n",
       "  <thead>\n",
       "    <tr style=\"text-align: right;\">\n",
       "      <th></th>\n",
       "      <th>Total missing</th>\n",
       "      <th>Percent missing</th>\n",
       "    </tr>\n",
       "  </thead>\n",
       "  <tbody>\n",
       "    <tr>\n",
       "      <th>0</th>\n",
       "      <td>0</td>\n",
       "      <td>0.0</td>\n",
       "    </tr>\n",
       "    <tr>\n",
       "      <th>1</th>\n",
       "      <td>0</td>\n",
       "      <td>0.0</td>\n",
       "    </tr>\n",
       "    <tr>\n",
       "      <th>2</th>\n",
       "      <td>0</td>\n",
       "      <td>0.0</td>\n",
       "    </tr>\n",
       "    <tr>\n",
       "      <th>3</th>\n",
       "      <td>0</td>\n",
       "      <td>0.0</td>\n",
       "    </tr>\n",
       "    <tr>\n",
       "      <th>4</th>\n",
       "      <td>0</td>\n",
       "      <td>0.0</td>\n",
       "    </tr>\n",
       "    <tr>\n",
       "      <th>...</th>\n",
       "      <td>...</td>\n",
       "      <td>...</td>\n",
       "    </tr>\n",
       "    <tr>\n",
       "      <th>3181</th>\n",
       "      <td>0</td>\n",
       "      <td>0.0</td>\n",
       "    </tr>\n",
       "    <tr>\n",
       "      <th>3182</th>\n",
       "      <td>0</td>\n",
       "      <td>0.0</td>\n",
       "    </tr>\n",
       "    <tr>\n",
       "      <th>3183</th>\n",
       "      <td>0</td>\n",
       "      <td>0.0</td>\n",
       "    </tr>\n",
       "    <tr>\n",
       "      <th>3184</th>\n",
       "      <td>0</td>\n",
       "      <td>0.0</td>\n",
       "    </tr>\n",
       "    <tr>\n",
       "      <th>3185</th>\n",
       "      <td>0</td>\n",
       "      <td>0.0</td>\n",
       "    </tr>\n",
       "  </tbody>\n",
       "</table>\n",
       "<p>3186 rows × 2 columns</p>\n",
       "</div>"
      ],
      "text/plain": [
       "      Total missing  Percent missing\n",
       "0                 0              0.0\n",
       "1                 0              0.0\n",
       "2                 0              0.0\n",
       "3                 0              0.0\n",
       "4                 0              0.0\n",
       "...             ...              ...\n",
       "3181              0              0.0\n",
       "3182              0              0.0\n",
       "3183              0              0.0\n",
       "3184              0              0.0\n",
       "3185              0              0.0\n",
       "\n",
       "[3186 rows x 2 columns]"
      ]
     },
     "execution_count": 9,
     "metadata": {},
     "output_type": "execute_result"
    }
   ],
   "source": [
    "# Total missing values\n",
    "total = eeg.isnull().sum(axis=1)\n",
    "\n",
    "# Percent Missing\n",
    "percent = (eeg.isnull().sum(axis=1)/eeg.isnull().count(axis=1)*100)\n",
    "\n",
    "missing_data  = pd.concat([total, percent], axis=1, keys=[\"Total missing\", \"Percent missing\"])\n",
    "\n",
    "missing_data"
   ]
  },
  {
   "cell_type": "code",
   "execution_count": 10,
   "metadata": {},
   "outputs": [
    {
     "name": "stdout",
     "output_type": "stream",
     "text": [
      "Class 0 appers : 767 times, with frequency 24.074074074074073 %\n",
      "Class 1 appers : 765 times, with frequency 24.01129943502825 %\n",
      "Class 2 appers : 1654 times, with frequency 51.914626490897675 %\n"
     ]
    }
   ],
   "source": [
    "for i in range(len (np.unique(eeg.iloc[:, len(eeg.iloc[0]) - 1]))):\n",
    "    print(\"Class {} appers : {} times, with frequency {} %\".format (i, np.count_nonzero(eeg.iloc[:, len(eeg.iloc[0]) - 1] == i), np.count_nonzero(eeg.iloc[:, len(eeg.iloc[0]) - 1] == i)/len(eeg) * 100))"
   ]
  },
  {
   "cell_type": "markdown",
   "metadata": {},
   "source": [
    "\n",
    "With the above frequency results for each class we can conclude that the dataset is not balanced"
   ]
  },
  {
   "cell_type": "markdown",
   "metadata": {},
   "source": [
    "## __Preprocessing__\n",
    "- Split the data set into a training set (train set) and a set (test set) with 30% of the samples in the test set"
   ]
  },
  {
   "cell_type": "code",
   "execution_count": 11,
   "metadata": {},
   "outputs": [],
   "source": [
    "X_train, X_test, y_train, y_test  = train_test_split(X_train, y_train, test_size=0.3, random_state=1)"
   ]
  },
  {
   "cell_type": "markdown",
   "metadata": {},
   "source": [
    "# __Performance out-of-the-box__"
   ]
  },
  {
   "cell_type": "markdown",
   "metadata": {},
   "source": [
    "## __dummy()__"
   ]
  },
  {
   "cell_type": "code",
   "execution_count": 12,
   "metadata": {},
   "outputs": [
    {
     "name": "stdout",
     "output_type": "stream",
     "text": [
      "Dummy Accuracy: 50.10460251046025% \n",
      "\n"
     ]
    }
   ],
   "source": [
    "dummy = DummyClassifier().fit(X_train, y_train) \n",
    "\n",
    "pred_dummy = dummy.predict(X_test) \n",
    "  \n",
    "accuracy_dummy = dummy.score(X_test, y_test) * 100 \n",
    "print(\"Dummy Accuracy: {}% \\n\".format(accuracy_dummy))"
   ]
  },
  {
   "cell_type": "markdown",
   "metadata": {},
   "source": [
    "## __GaussianNB()__"
   ]
  },
  {
   "cell_type": "code",
   "execution_count": 14,
   "metadata": {
    "scrolled": false
   },
   "outputs": [
    {
     "name": "stdout",
     "output_type": "stream",
     "text": [
      "GaussianNB Accuracy: 94.35146443514645% \n",
      "\n"
     ]
    }
   ],
   "source": [
    "gnb = GaussianNB().fit(X_train, y_train) \n",
    "\n",
    "pred_gnb = gnb.predict(X_test) \n",
    "  \n",
    "accuracy_gnb = gnb.score(X_test, y_test) *100 \n",
    "print(\"GaussianNB Accuracy: {}% \\n\".format(accuracy_gnb))"
   ]
  },
  {
   "cell_type": "markdown",
   "metadata": {},
   "source": [
    "## __Confusion Matrix and Classification Report of GaussianNB()__"
   ]
  },
  {
   "cell_type": "code",
   "execution_count": 15,
   "metadata": {},
   "outputs": [
    {
     "name": "stdout",
     "output_type": "stream",
     "text": [
      "[[0.97560976 0.01626016 0.00813008]\n",
      " [0.03030303 0.94372294 0.02597403]\n",
      " [0.03966597 0.03340292 0.92693111]]\n"
     ]
    },
    {
     "data": {
      "image/png": "[encoded data removed]",
      "text/plain": [
       "<Figure size 504x360 with 2 Axes>"
      ]
     },
     "metadata": {
      "needs_background": "light"
     },
     "output_type": "display_data"
    }
   ],
   "source": [
    "cm = confusion_matrix(y_test, pred_gnb) \n",
    "cm = cm.astype('float') / cm.sum(axis=1)[:, np.newaxis]\n",
    "print(cm)\n",
    "\n",
    "df_cm = pd.DataFrame(cm, range(3), range(3))\n",
    "plt.figure(figsize=(7,5))\n",
    "sn.set(font_scale=0.5) # for label size\n",
    "sn.heatmap(df_cm, annot=True, annot_kws={\"size\": 10}) # font size\n",
    "plt.show()"
   ]
  },
  {
   "cell_type": "code",
   "execution_count": 16,
   "metadata": {
    "scrolled": false
   },
   "outputs": [
    {
     "name": "stdout",
     "output_type": "stream",
     "text": [
      "              precision    recall  f1-score   support\n",
      "\n",
      "     class 0       0.90      0.98      0.94       246\n",
      "     class 1       0.92      0.94      0.93       231\n",
      "     class 2       0.98      0.93      0.95       479\n",
      "\n",
      "    accuracy                           0.94       956\n",
      "   macro avg       0.93      0.95      0.94       956\n",
      "weighted avg       0.95      0.94      0.94       956\n",
      "\n",
      "\n",
      "F1-score is : 0.9403168769471653\n",
      "Cross validation score is : 93.54260089686099\n"
     ]
    }
   ],
   "source": [
    "target_names = ['class 0','class 1','class 2']\n",
    "print(classification_report(y_test, pred_gnb, target_names=target_names))\n",
    "print()\n",
    "\n",
    "f1_gnb = f1_score(y_test, pred_gnb, average='macro')\n",
    "cross_val_gnb = np.mean(cross_val_score(gnb, X_train, y_train, cv=10))*100\n",
    "print('F1-score is :', f1_gnb)\n",
    "print('Cross validation score is :', cross_val_gnb)"
   ]
  },
  {
   "cell_type": "markdown",
   "metadata": {},
   "source": [
    "## __KNeighborsClassifier()__"
   ]
  },
  {
   "cell_type": "code",
   "execution_count": 17,
   "metadata": {
    "scrolled": true,
    "slideshow": {
     "slide_type": "-"
    }
   },
   "outputs": [
    {
     "data": {
      "image/png": "[encoded data removed]",
      "text/plain": [
       "<Figure size 432x288 with 1 Axes>"
      ]
     },
     "metadata": {},
     "output_type": "display_data"
    },
    {
     "name": "stdout",
     "output_type": "stream",
     "text": [
      "Optimal k is:  61\n",
      "KNN Accuracy: 85.98326359832636%\n"
     ]
    }
   ],
   "source": [
    "# training a KNN classifier \n",
    "myList = list(range(1,100))\n",
    "neighbors = list(filter(lambda x: x%2!=0, myList))\n",
    "cv_scores = []\n",
    "for k in neighbors:\n",
    "    knn_model = KNeighborsClassifier(n_neighbors=k)\n",
    "    scores = cross_val_score(knn_model, X_train, y_train, cv=10, scoring='f1_macro')\n",
    "    cv_scores.append(scores.mean())\n",
    "    \n",
    "mean_error = [1-x for x in cv_scores]\n",
    "\n",
    "plt.plot(neighbors, mean_error)\n",
    "plt.xlabel('Number of Neighbors k')\n",
    "plt.ylabel('Misclassification Error')\n",
    "plt.show()\n",
    "\n",
    "optimal_k = neighbors[mean_error.index(min(mean_error))]\n",
    "print('Optimal k is: ', optimal_k)\n",
    "\n",
    "knn_model = KNeighborsClassifier(n_neighbors = optimal_k, n_jobs=-1)\n",
    "knn_model.fit(X_train, y_train)\n",
    "pred_knn = knn_model.predict(X_test)\n",
    "accuracy_knn = accuracy_score(y_test, pred_knn)*100\n",
    "print(\"KNN Accuracy: {}%\".format(accuracy_knn))"
   ]
  },
  {
   "cell_type": "markdown",
   "metadata": {},
   "source": [
    "## __Confusion Matrix and Classification Report of KNeighborsClassifier()__"
   ]
  },
  {
   "cell_type": "code",
   "execution_count": 18,
   "metadata": {},
   "outputs": [
    {
     "name": "stdout",
     "output_type": "stream",
     "text": [
      "[[0.78455285 0.12601626 0.08943089]\n",
      " [0.01298701 0.96103896 0.02597403]\n",
      " [0.03131524 0.11899791 0.84968685]]\n"
     ]
    },
    {
     "data": {
      "image/png": "[encoded data removed]",
      "text/plain": [
       "<Figure size 504x360 with 2 Axes>"
      ]
     },
     "metadata": {},
     "output_type": "display_data"
    }
   ],
   "source": [
    "cm = confusion_matrix(y_test, pred_knn) \n",
    "cm = cm.astype('float') / cm.sum(axis=1)[:, np.newaxis]\n",
    "print(cm)\n",
    "\n",
    "df_cm = pd.DataFrame(cm, range(3), range(3))\n",
    "plt.figure(figsize=(7,5))\n",
    "sn.set(font_scale=0.5) # for label size\n",
    "sn.heatmap(df_cm, annot=True, annot_kws={\"size\": 10}) # font size\n",
    "plt.show()"
   ]
  },
  {
   "cell_type": "code",
   "execution_count": 19,
   "metadata": {
    "scrolled": true
   },
   "outputs": [
    {
     "name": "stdout",
     "output_type": "stream",
     "text": [
      "              precision    recall  f1-score   support\n",
      "\n",
      "     class 0       0.91      0.78      0.84       246\n",
      "     class 1       0.72      0.96      0.82       231\n",
      "     class 2       0.94      0.85      0.89       479\n",
      "\n",
      "    accuracy                           0.86       956\n",
      "   macro avg       0.86      0.87      0.85       956\n",
      "weighted avg       0.88      0.86      0.86       956\n",
      "\n",
      "\n",
      "F1-score is : 0.8519773874190891\n",
      "Cross validation score is : 88.47533632286995\n"
     ]
    }
   ],
   "source": [
    "target_names = ['class 0','class 1','class 2']\n",
    "print(classification_report(y_test, pred_knn, target_names=target_names))\n",
    "print()\n",
    "\n",
    "f1_knn = f1_score(y_test, pred_knn, average='macro')\n",
    "cross_val_knn = np.mean(cross_val_score(knn_model, X_train, y_train, cv=10))*100\n",
    "print('F1-score is :', f1_knn)\n",
    "print('Cross validation score is :', cross_val_knn)"
   ]
  },
  {
   "cell_type": "markdown",
   "metadata": {},
   "source": [
    "## __LogisticRegression()__"
   ]
  },
  {
   "cell_type": "code",
   "execution_count": 20,
   "metadata": {},
   "outputs": [
    {
     "name": "stdout",
     "output_type": "stream",
     "text": [
      "LogisticRegression Accuracy: 94.6652719665272%\n"
     ]
    }
   ],
   "source": [
    "with ignore_warnings(category=ConvergenceWarning):\n",
    "\n",
    "    logreg = LogisticRegression()\n",
    "    logreg.fit(X_train, y_train) \n",
    "    pred_logreg = logreg.predict(X_test) \n",
    "    accuracy_logreg = logreg.score(X_test, y_test) * 100\n",
    "    print(\"LogisticRegression Accuracy: {}%\".format(accuracy_logreg))"
   ]
  },
  {
   "cell_type": "markdown",
   "metadata": {},
   "source": [
    "## __Confusion Matrix and Classification Report of LogisticRegression()__"
   ]
  },
  {
   "cell_type": "code",
   "execution_count": 21,
   "metadata": {
    "scrolled": false
   },
   "outputs": [
    {
     "name": "stdout",
     "output_type": "stream",
     "text": [
      "[[0.96341463 0.02845528 0.00813008]\n",
      " [0.03896104 0.92640693 0.03463203]\n",
      " [0.01670146 0.03549061 0.94780793]]\n"
     ]
    },
    {
     "data": {
      "image/png": "[encoded data removed]",
      "text/plain": [
       "<Figure size 504x360 with 2 Axes>"
      ]
     },
     "metadata": {},
     "output_type": "display_data"
    }
   ],
   "source": [
    "cm = confusion_matrix(y_test, pred_logreg) \n",
    "cm = cm.astype('float') / cm.sum(axis=1)[:, np.newaxis]\n",
    "print(cm)\n",
    "\n",
    "df_cm = pd.DataFrame(cm, range(3), range(3))\n",
    "plt.figure(figsize=(7,5))\n",
    "sn.set(font_scale=0.5) # for label size\n",
    "sn.heatmap(df_cm, annot=True, annot_kws={\"size\": 10}) # font size\n",
    "plt.show()"
   ]
  },
  {
   "cell_type": "code",
   "execution_count": 22,
   "metadata": {
    "scrolled": true
   },
   "outputs": [
    {
     "name": "stdout",
     "output_type": "stream",
     "text": [
      "              precision    recall  f1-score   support\n",
      "\n",
      "     class 0       0.93      0.96      0.95       246\n",
      "     class 1       0.90      0.93      0.91       231\n",
      "     class 2       0.98      0.95      0.96       479\n",
      "\n",
      "    accuracy                           0.95       956\n",
      "   macro avg       0.94      0.95      0.94       956\n",
      "weighted avg       0.95      0.95      0.95       956\n",
      "\n",
      "\n",
      "F1-score is : 0.9411547896029623\n",
      "Cross validation score is : 93.76681614349775\n"
     ]
    }
   ],
   "source": [
    "with ignore_warnings(category=ConvergenceWarning):\n",
    "    target_names = ['class 0','class 1','class 2']\n",
    "    print(classification_report(y_test, pred_logreg, target_names=target_names))\n",
    "    print()\n",
    "\n",
    "    f1_logreg = f1_score(y_test, pred_logreg, average='macro')\n",
    "    cross_val_logreg = np.mean(cross_val_score(logreg, X_train, y_train, cv=10))*100\n",
    "    print('F1-score is :', f1_logreg)\n",
    "    print('Cross validation score is :', cross_val_logreg)"
   ]
  },
  {
   "cell_type": "markdown",
   "metadata": {},
   "source": [
    "## __MLPClassifier()__"
   ]
  },
  {
   "cell_type": "code",
   "execution_count": 23,
   "metadata": {
    "scrolled": true
   },
   "outputs": [
    {
     "name": "stdout",
     "output_type": "stream",
     "text": [
      "MLP Accuracy: 94.76987447698745%\n"
     ]
    }
   ],
   "source": [
    "MLP_model = MLPClassifier()\n",
    "MLP_model.fit(X_train, y_train)\n",
    "\n",
    "pred_mlp = MLP_model.predict(X_test) \n",
    "\n",
    "accuracy_mlp = MLP_model.score(X_test, y_test) * 100\n",
    "print(\"MLP Accuracy: {}%\".format(accuracy_mlp))"
   ]
  },
  {
   "cell_type": "markdown",
   "metadata": {},
   "source": [
    "## __Confusion Matrix and Classification Report of MLPClassifier()__"
   ]
  },
  {
   "cell_type": "code",
   "execution_count": 24,
   "metadata": {
    "scrolled": false
   },
   "outputs": [
    {
     "name": "stdout",
     "output_type": "stream",
     "text": [
      "[[0.95121951 0.04065041 0.00813008]\n",
      " [0.03463203 0.93939394 0.02597403]\n",
      " [0.02087683 0.02922756 0.94989562]]\n"
     ]
    },
    {
     "data": {
      "image/png": "[encoded data removed]",
      "text/plain": [
       "<Figure size 504x360 with 2 Axes>"
      ]
     },
     "metadata": {},
     "output_type": "display_data"
    }
   ],
   "source": [
    "cm = confusion_matrix(y_test, pred_mlp) \n",
    "cm = cm.astype('float') / cm.sum(axis=1)[:, np.newaxis]\n",
    "print(cm)\n",
    "\n",
    "df_cm = pd.DataFrame(cm, range(3), range(3))\n",
    "plt.figure(figsize=(7,5))\n",
    "sn.set(font_scale=0.5) # for label size\n",
    "sn.heatmap(df_cm, annot=True, annot_kws={\"size\": 10}) # font size\n",
    "plt.show()"
   ]
  },
  {
   "cell_type": "code",
   "execution_count": 25,
   "metadata": {},
   "outputs": [
    {
     "name": "stdout",
     "output_type": "stream",
     "text": [
      "              precision    recall  f1-score   support\n",
      "\n",
      "     class 0       0.93      0.95      0.94       246\n",
      "     class 1       0.90      0.94      0.92       231\n",
      "     class 2       0.98      0.95      0.97       479\n",
      "\n",
      "    accuracy                           0.95       956\n",
      "   macro avg       0.94      0.95      0.94       956\n",
      "weighted avg       0.95      0.95      0.95       956\n",
      "\n",
      "\n",
      "F1-score is : 0.9417600951866049\n",
      "Cross validation score is : 94.48430493273543\n"
     ]
    }
   ],
   "source": [
    "with ignore_warnings(category=ConvergenceWarning):\n",
    "    target_names = ['class 0','class 1','class 2']\n",
    "    print(classification_report(y_test, pred_mlp, target_names=target_names))\n",
    "    print()\n",
    "\n",
    "    f1_mlp = f1_score(y_test, pred_mlp, average='macro')\n",
    "    cross_val_mlp = np.mean(cross_val_score(MLP_model, X_train, y_train, cv=10))*100\n",
    "    print('F1-score is :', f1_mlp)\n",
    "    print('Cross validation score is :', cross_val_mlp)"
   ]
  },
  {
   "cell_type": "markdown",
   "metadata": {},
   "source": [
    "## __SVMClassifiers()__"
   ]
  },
  {
   "cell_type": "code",
   "execution_count": 26,
   "metadata": {},
   "outputs": [
    {
     "name": "stdout",
     "output_type": "stream",
     "text": [
      "Accuracy of SVM classifier, considering different kernels\n",
      "\n",
      "Kernel = linear: 0.9351464435146444\n",
      "Kernel = rbf: 0.9612970711297071\n",
      "Kernel = poly: 0.9414225941422594\n",
      "Kernel = sigmoid: 0.9372384937238494\n"
     ]
    }
   ],
   "source": [
    "svm_lin = SVC(kernel=\"linear\", probability=True)  \n",
    "svm_lin.fit(X_train, y_train)\n",
    "\n",
    "svm_rbf = SVC(kernel=\"rbf\", probability=True)  \n",
    "svm_rbf.fit(X_train, y_train)\n",
    "\n",
    "svm_poly = SVC(kernel=\"poly\", probability=True)  \n",
    "svm_poly.fit(X_train, y_train)\n",
    "\n",
    "svm_sigm = SVC(kernel=\"sigmoid\", probability=True) \n",
    "svm_sigm.fit(X_train, y_train)\n",
    "\n",
    "print(\"Accuracy of SVM classifier, considering different kernels\")\n",
    "print()\n",
    "\n",
    "print(\"Kernel = linear: \" + str(svm_lin.score(X_test, y_test)))\n",
    "print(\"Kernel = rbf: \" + str(svm_rbf.score(X_test, y_test)))\n",
    "print(\"Kernel = poly: \" + str(svm_poly.score(X_test, y_test)))\n",
    "print(\"Kernel = sigmoid: \" + str(svm_sigm.score(X_test, y_test)))"
   ]
  },
  {
   "cell_type": "markdown",
   "metadata": {},
   "source": [
    "## __RBF SVMClassifier()__"
   ]
  },
  {
   "cell_type": "code",
   "execution_count": 27,
   "metadata": {},
   "outputs": [
    {
     "name": "stdout",
     "output_type": "stream",
     "text": [
      "SVM Accuracy: 96.1297071129707%\n"
     ]
    }
   ],
   "source": [
    "svm_model = SVC(probability=True)\n",
    "\n",
    "svm_model.fit(X_train, y_train)\n",
    "pred_svm = svm_model.predict(X_test)\n",
    "accuracy_svm = accuracy_score(y_test, pred_svm)*100\n",
    "print(\"SVM Accuracy: {}%\".format(accuracy_svm))"
   ]
  },
  {
   "cell_type": "markdown",
   "metadata": {},
   "source": [
    "## __Confusion Matrix and Classification Report of RBF SVMClassifier()__"
   ]
  },
  {
   "cell_type": "code",
   "execution_count": 28,
   "metadata": {},
   "outputs": [
    {
     "name": "stdout",
     "output_type": "stream",
     "text": [
      "[[0.96341463 0.03252033 0.00406504]\n",
      " [0.02597403 0.95670996 0.01731602]\n",
      " [0.01878914 0.01878914 0.96242171]]\n"
     ]
    },
    {
     "data": {
      "image/png": "[encoded data removed]",
      "text/plain": [
       "<Figure size 504x360 with 2 Axes>"
      ]
     },
     "metadata": {},
     "output_type": "display_data"
    }
   ],
   "source": [
    "cm = confusion_matrix(y_test, pred_svm) \n",
    "cm = cm.astype('float') / cm.sum(axis=1)[:, np.newaxis]\n",
    "print(cm)\n",
    "\n",
    "df_cm = pd.DataFrame(cm, range(3), range(3))\n",
    "plt.figure(figsize=(7,5))\n",
    "sn.set(font_scale=0.5) # for label size\n",
    "sn.heatmap(df_cm, annot=True, annot_kws={\"size\": 10}) # font size\n",
    "plt.show()"
   ]
  },
  {
   "cell_type": "code",
   "execution_count": 29,
   "metadata": {},
   "outputs": [
    {
     "name": "stdout",
     "output_type": "stream",
     "text": [
      "              precision    recall  f1-score   support\n",
      "\n",
      "     class 0       0.94      0.96      0.95       246\n",
      "     class 1       0.93      0.96      0.94       231\n",
      "     class 2       0.99      0.96      0.98       479\n",
      "\n",
      "    accuracy                           0.96       956\n",
      "   macro avg       0.95      0.96      0.96       956\n",
      "weighted avg       0.96      0.96      0.96       956\n",
      "\n",
      "\n",
      "F1-score is : 0.956633102733924\n",
      "Cross validation score is : 95.91928251121077\n"
     ]
    }
   ],
   "source": [
    "target_names = ['class 0','class 1','class 2']\n",
    "print(classification_report(y_test, pred_svm, target_names=target_names))\n",
    "print()\n",
    "\n",
    "f1_svm = f1_score(y_test, pred_svm, average='macro')\n",
    "cross_val_svm = np.mean(cross_val_score(svm_model, X_train, y_train, cv=10))*100\n",
    "print('F1-score is :', f1_svm)\n",
    "print('Cross validation score is :', cross_val_svm)"
   ]
  },
  {
   "cell_type": "markdown",
   "metadata": {},
   "source": [
    "## __Linear SVMClassifier()__"
   ]
  },
  {
   "cell_type": "code",
   "execution_count": 30,
   "metadata": {},
   "outputs": [
    {
     "name": "stdout",
     "output_type": "stream",
     "text": [
      "SVM Linear Accuracy: 93.51464435146444%\n"
     ]
    }
   ],
   "source": [
    "#SVM Linear\n",
    "svm_model_linear = SVC(kernel = 'linear', C = 1).fit(X_train, y_train) \n",
    "\n",
    "pred_svm_lin = svm_model_linear.predict(X_test) \n",
    "  \n",
    "# model accuracy for X_test   \n",
    "accuracy_svm_lin = svm_model_linear.score(X_test, y_test) * 100\n",
    "print(\"SVM Linear Accuracy: {}%\".format(accuracy_svm_lin))"
   ]
  },
  {
   "cell_type": "markdown",
   "metadata": {},
   "source": [
    "## __Confusion Matrix and Classification Report of Linear SVMClassifier()__"
   ]
  },
  {
   "cell_type": "code",
   "execution_count": 31,
   "metadata": {
    "scrolled": false
   },
   "outputs": [
    {
     "name": "stdout",
     "output_type": "stream",
     "text": [
      "[[0.94715447 0.02845528 0.02439024]\n",
      " [0.05194805 0.90909091 0.03896104]\n",
      " [0.02713987 0.03131524 0.94154489]]\n"
     ]
    },
    {
     "data": {
      "image/png": "[encoded data removed]",
      "text/plain": [
       "<Figure size 504x360 with 2 Axes>"
      ]
     },
     "metadata": {},
     "output_type": "display_data"
    }
   ],
   "source": [
    "cm = confusion_matrix(y_test, pred_svm_lin) \n",
    "cm = cm.astype('float') / cm.sum(axis=1)[:, np.newaxis]\n",
    "print(cm)\n",
    "\n",
    "df_cm = pd.DataFrame(cm, range(3), range(3))\n",
    "plt.figure(figsize=(7,5))\n",
    "sn.set(font_scale=0.5) # for label size\n",
    "sn.heatmap(df_cm, annot=True, annot_kws={\"size\": 10}) # font size\n",
    "plt.show()"
   ]
  },
  {
   "cell_type": "code",
   "execution_count": 32,
   "metadata": {
    "scrolled": true
   },
   "outputs": [
    {
     "name": "stdout",
     "output_type": "stream",
     "text": [
      "              precision    recall  f1-score   support\n",
      "\n",
      "     class 0       0.90      0.95      0.92       246\n",
      "     class 1       0.91      0.91      0.91       231\n",
      "     class 2       0.97      0.94      0.95       479\n",
      "\n",
      "    accuracy                           0.94       956\n",
      "   macro avg       0.93      0.93      0.93       956\n",
      "weighted avg       0.94      0.94      0.94       956\n",
      "\n",
      "\n",
      "F1-score is : 0.9287426529687149\n",
      "Cross validation score is : 90.98654708520179\n"
     ]
    }
   ],
   "source": [
    "target_names = ['class 0','class 1','class 2']\n",
    "print(classification_report(y_test, pred_svm_lin, target_names=target_names))\n",
    "print()\n",
    "\n",
    "f1_svm_linear = f1_score(y_test, pred_svm_lin, average='macro')\n",
    "cross_val_svm_linear = np.mean(cross_val_score(svm_model_linear, X_train, y_train, cv=10))*100\n",
    "print('F1-score is :', f1_svm_linear)\n",
    "print('Cross validation score is :', cross_val_svm_linear)"
   ]
  },
  {
   "cell_type": "markdown",
   "metadata": {},
   "source": [
    "\n",
    "# __Poly SVMClassifier()__"
   ]
  },
  {
   "cell_type": "code",
   "execution_count": 33,
   "metadata": {},
   "outputs": [
    {
     "name": "stdout",
     "output_type": "stream",
     "text": [
      "SVM Poly Accuracy: 94.14225941422593%\n"
     ]
    }
   ],
   "source": [
    "svm_model_poly = SVC(kernel='poly').fit(X_train, y_train) \n",
    "\n",
    "pred_svm_poly = svm_model_poly.predict(X_test) \n",
    "  \n",
    "accuracy_svm_poly = svm_model_poly.score(X_test, y_test) * 100\n",
    "print(\"SVM Poly Accuracy: {}%\".format(accuracy_svm_poly))"
   ]
  },
  {
   "cell_type": "markdown",
   "metadata": {},
   "source": [
    "## __Confusion Matrix and Classification Report of Poly SVMClassifier()__"
   ]
  },
  {
   "cell_type": "code",
   "execution_count": 34,
   "metadata": {
    "scrolled": false
   },
   "outputs": [
    {
     "name": "stdout",
     "output_type": "stream",
     "text": [
      "[[0.91869919 0.03658537 0.04471545]\n",
      " [0.02164502 0.94372294 0.03463203]\n",
      " [0.01878914 0.02922756 0.9519833 ]]\n"
     ]
    },
    {
     "data": {
      "image/png": "[encoded data removed]",
      "text/plain": [
       "<Figure size 504x360 with 2 Axes>"
      ]
     },
     "metadata": {},
     "output_type": "display_data"
    }
   ],
   "source": [
    "cm = confusion_matrix(y_test, pred_svm_poly) \n",
    "cm = cm.astype('float') / cm.sum(axis=1)[:, np.newaxis]\n",
    "print(cm)\n",
    "\n",
    "df_cm = pd.DataFrame(cm, range(3), range(3))\n",
    "plt.figure(figsize=(7,5))\n",
    "sn.set(font_scale=0.5) # for label size\n",
    "sn.heatmap(df_cm, annot=True, annot_kws={\"size\": 10}) # font size\n",
    "plt.show()"
   ]
  },
  {
   "cell_type": "code",
   "execution_count": 35,
   "metadata": {},
   "outputs": [
    {
     "name": "stdout",
     "output_type": "stream",
     "text": [
      "              precision    recall  f1-score   support\n",
      "\n",
      "     class 0       0.94      0.92      0.93       246\n",
      "     class 1       0.90      0.94      0.92       231\n",
      "     class 2       0.96      0.95      0.96       479\n",
      "\n",
      "    accuracy                           0.94       956\n",
      "   macro avg       0.94      0.94      0.94       956\n",
      "weighted avg       0.94      0.94      0.94       956\n",
      "\n",
      "\n",
      "F1-score is : 0.9365816028633308\n",
      "Cross validation score is : 95.1121076233184\n"
     ]
    }
   ],
   "source": [
    "target_names = ['class 0','class 1','class 2']\n",
    "print(classification_report(y_test, pred_svm_poly, target_names=target_names))\n",
    "print()\n",
    "\n",
    "f1_svm_poly = f1_score(y_test, pred_svm_poly, average='macro')\n",
    "cross_val_svm_poly = np.mean(cross_val_score(svm_model_poly, X_train, y_train, cv=10))*100\n",
    "print('F1-score is :', f1_svm_poly)\n",
    "print('Cross validation score is :', cross_val_svm_poly)"
   ]
  },
  {
   "cell_type": "markdown",
   "metadata": {},
   "source": [
    "## __Markdown table__"
   ]
  },
  {
   "cell_type": "markdown",
   "metadata": {},
   "source": [
    "| Classifier             | Accuracy %  | F1-score | Cross validation |\n",
    "|------------------------|-------------|----------|------------------|\n",
    "| dummy                  | 50.1046     | 0.2225     | 52.6905          |\n",
    "| Gaussian Naive Bayes   | 94.3514     | 0.9403     | 93.5426          |\n",
    "| K Neirest Neighbors    | 85.9832     | 0.8519     | 88.4753          |\n",
    "| Logistic Regression    | 94.6652     | 0.9411     | 93.7668          |\n",
    "| Multi-Layer Perceptron | 95.3974     | 0.9492     | 94.2152          |\n",
    "| SVM (kernel = rbf)  | 96.1297     | 0.9566     | 95.9192          |\n",
    "| SVM (kernel = linear)  | 93.5146     | 0.9287     | 90. 9865         |\n",
    "| SVM (kernel = poly)    | 94.1422     | 0.9365     | 95.1121          |"
   ]
  },
  {
   "cell_type": "code",
   "execution_count": 36,
   "metadata": {},
   "outputs": [],
   "source": [
    "acc = [accuracy_dummy, accuracy_gnb, accuracy_knn, accuracy_logreg, accuracy_mlp, accuracy_svm, accuracy_svm_lin, accuracy_svm_poly]\n",
    "f1 =[f1_dummy, f1_gnb, f1_knn, f1_logreg, f1_mlp, f1_svm, f1_svm_linear, f1_svm_poly]\n",
    "classifiers = ['dummy', 'GNB', 'KNN', 'LOGREG', 'MLP', 'SVM(RBF)', 'SVM(LIN)', 'SVM(POLY)']     "
   ]
  },
  {
   "cell_type": "markdown",
   "metadata": {},
   "source": [
    "## __Accuracy Bar plot__"
   ]
  },
  {
   "cell_type": "code",
   "execution_count": 37,
   "metadata": {
    "scrolled": false
   },
   "outputs": [
    {
     "data": {
      "image/png": "[encoded data removed]",
      "text/plain": [
       "<Figure size 720x360 with 1 Axes>"
      ]
     },
     "metadata": {},
     "output_type": "display_data"
    }
   ],
   "source": [
    "fig, ax = plt.subplots(figsize=(10,5))\n",
    "ax.set_xlabel('Classifiers',fontsize = 15) #xlabel\n",
    "ax.set_ylabel('Accuracy', fontsize = 15) #ylabel\n",
    "\n",
    "plt.yticks(rotation=30, size = 10)\n",
    "plt.xticks(rotation=0, size = 10)\n",
    "\n",
    "ax = sn.barplot(x=acc, y=classifiers)\n",
    "ax.set_title(\"Accuracy of all classifiers\", fontsize= 15)\n",
    "\n",
    "\n",
    "plt.tight_layout()\n",
    "plt.show()"
   ]
  },
  {
   "cell_type": "markdown",
   "metadata": {},
   "source": [
    "## __F1-score Bar plot__"
   ]
  },
  {
   "cell_type": "code",
   "execution_count": 38,
   "metadata": {
    "scrolled": false
   },
   "outputs": [
    {
     "data": {
      "image/png": "[encoded data removed]",
      "text/plain": [
       "<Figure size 720x360 with 1 Axes>"
      ]
     },
     "metadata": {},
     "output_type": "display_data"
    }
   ],
   "source": [
    "fig, ax = plt.subplots(figsize=(10,5))\n",
    "ax.set_xlabel('Classifiers',fontsize = 15) #xlabel\n",
    "ax.set_ylabel('F1-score', fontsize = 15) #ylabel\n",
    "\n",
    "plt.yticks(rotation=30, size = 10)\n",
    "plt.xticks(rotation=0, size = 10)\n",
    "\n",
    "ax = sn.barplot(x=f1, y=classifiers)\n",
    "ax.set_title(\"F1-score of all classifiers\", fontsize= 15)\n",
    "\n",
    "\n",
    "plt.tight_layout()\n",
    "plt.show()"
   ]
  },
  {
   "cell_type": "markdown",
   "metadata": {},
   "source": [
    "As we can see the dummy classifier has approximately 50% score, due to the imbalance of tha data. The best classifier is the SVM with rbf kernel. The KNN's performance isnt so good (except from the dummy one), due to the form of the data "
   ]
  },
  {
   "cell_type": "markdown",
   "metadata": {},
   "source": [
    "- ## Preprocessing "
   ]
  },
  {
   "cell_type": "markdown",
   "metadata": {},
   "source": [
    "- Imbalanced dataset Over Sampler"
   ]
  },
  {
   "cell_type": "code",
   "execution_count": 39,
   "metadata": {
    "scrolled": true
   },
   "outputs": [
    {
     "name": "stdout",
     "output_type": "stream",
     "text": [
      "Requirement already satisfied: imbalanced-learn in c:\\users\\nanos\\miniconda3\\lib\\site-packages (0.8.1)\n",
      "Requirement already satisfied: scikit-learn>=0.24 in c:\\users\\nanos\\miniconda3\\lib\\site-packages (from imbalanced-learn) (1.0)\n",
      "Requirement already satisfied: joblib>=0.11 in c:\\users\\nanos\\miniconda3\\lib\\site-packages (from imbalanced-learn) (1.0.1)\n",
      "Requirement already satisfied: numpy>=1.13.3 in c:\\users\\nanos\\miniconda3\\lib\\site-packages (from imbalanced-learn) (1.21.5)\n",
      "Requirement already satisfied: scipy>=0.19.1 in c:\\users\\nanos\\miniconda3\\lib\\site-packages (from imbalanced-learn) (1.7.1)\n",
      "Requirement already satisfied: threadpoolctl>=2.0.0 in c:\\users\\nanos\\miniconda3\\lib\\site-packages (from scikit-learn>=0.24->imbalanced-learn) (2.2.0)\n"
     ]
    }
   ],
   "source": [
    "!pip install -U imbalanced-learn"
   ]
  },
  {
   "cell_type": "code",
   "execution_count": 40,
   "metadata": {},
   "outputs": [],
   "source": [
    "from imblearn.over_sampling import RandomOverSampler\n",
    "from sklearn.preprocessing import MultiLabelBinarizer ## MPOREI NA TO AFAIRESW AUTO!!"
   ]
  },
  {
   "cell_type": "code",
   "execution_count": 41,
   "metadata": {},
   "outputs": [
    {
     "name": "stdout",
     "output_type": "stream",
     "text": [
      "Number of data samples is :  3525\n",
      "Number of characteristics of each sample is  180\n",
      "There exist 3 classes in column 3524 of the dataset \n",
      "The labels of the classes are : [0 1 2]\n"
     ]
    }
   ],
   "source": [
    "ros = RandomOverSampler()\n",
    "X_train_ros, y_train_ros = ros.fit_resample(X_train, y_train)\n",
    "print(\"Number of data samples is : \", len(X_train_ros))\n",
    "print(\"Number of characteristics of each sample is \", len(X_train_ros[0]))\n",
    "print(\"There exist {} classes in column {} of the dataset \".format(len (np.unique(y_train_ros)), len(y_train_ros) -1))\n",
    "print(\"The labels of the classes are : {}\" .format(np.unique(y_train_ros[:])))"
   ]
  },
  {
   "cell_type": "code",
   "execution_count": 44,
   "metadata": {},
   "outputs": [
    {
     "name": "stdout",
     "output_type": "stream",
     "text": [
      "Class 0 appers : 1175 times, with frequency 33.33333333333333 %\n",
      "Class 1 appers : 1175 times, with frequency 33.33333333333333 %\n",
      "Class 2 appers : 1175 times, with frequency 33.33333333333333 %\n"
     ]
    }
   ],
   "source": [
    "for i in range(len (np.unique(y_train_ros))):\n",
    "    print(\"Class {} appers : {} times, with frequency {} %\".format (i, np.count_nonzero(y_train_ros[:] == i), np.count_nonzero(y_train_ros[:] == i)/len(y_train_ros) * 100))"
   ]
  },
  {
   "cell_type": "markdown",
   "metadata": {},
   "source": [
    "- dummy"
   ]
  },
  {
   "cell_type": "code",
   "execution_count": 45,
   "metadata": {},
   "outputs": [
    {
     "name": "stdout",
     "output_type": "stream",
     "text": [
      "Dummy Accuracy: 25.732217573221757% \n",
      "\n",
      "              precision    recall  f1-score   support\n",
      "\n",
      "     class 0       0.26      1.00      0.41       246\n",
      "     class 1       0.00      0.00      0.00       231\n",
      "     class 2       0.00      0.00      0.00       479\n",
      "\n",
      "    accuracy                           0.26       956\n",
      "   macro avg       0.09      0.33      0.14       956\n",
      "weighted avg       0.07      0.26      0.11       956\n",
      "\n",
      "\n",
      "F1-score is : 0.13643926788685523\n",
      "Cross validation score is : 33.19155614215813\n"
     ]
    },
    {
     "name": "stderr",
     "output_type": "stream",
     "text": [
      "C:\\Users\\nanos\\miniconda3\\lib\\site-packages\\sklearn\\metrics\\_classification.py:1308: UndefinedMetricWarning: Precision and F-score are ill-defined and being set to 0.0 in labels with no predicted samples. Use `zero_division` parameter to control this behavior.\n",
      "  _warn_prf(average, modifier, msg_start, len(result))\n",
      "C:\\Users\\nanos\\miniconda3\\lib\\site-packages\\sklearn\\metrics\\_classification.py:1308: UndefinedMetricWarning: Precision and F-score are ill-defined and being set to 0.0 in labels with no predicted samples. Use `zero_division` parameter to control this behavior.\n",
      "  _warn_prf(average, modifier, msg_start, len(result))\n",
      "C:\\Users\\nanos\\miniconda3\\lib\\site-packages\\sklearn\\metrics\\_classification.py:1308: UndefinedMetricWarning: Precision and F-score are ill-defined and being set to 0.0 in labels with no predicted samples. Use `zero_division` parameter to control this behavior.\n",
      "  _warn_prf(average, modifier, msg_start, len(result))\n"
     ]
    }
   ],
   "source": [
    "dummy = DummyClassifier().fit(X_train_ros, y_train_ros) \n",
    "\n",
    "pred_dummy = dummy.predict(X_test) \n",
    "  \n",
    "accuracy_dummy = dummy.score(X_test, y_test) * 100 \n",
    "print(\"Dummy Accuracy: {}% \\n\".format(accuracy_dummy))\n",
    "\n",
    "target_names = ['class 0','class 1','class 2']\n",
    "print(classification_report(y_test, pred_dummy, target_names=target_names))\n",
    "print()\n",
    "\n",
    "f1_dummy = f1_score(y_test, pred_dummy, average='macro')\n",
    "cross_val_dummy = np.mean(cross_val_score(dummy, X_train_ros, y_train_ros, cv=10))*100\n",
    "print('F1-score is :', f1_dummy)\n",
    "print('Cross validation score is :', cross_val_dummy)"
   ]
  },
  {
   "cell_type": "markdown",
   "metadata": {},
   "source": [
    "- GaussianNB"
   ]
  },
  {
   "cell_type": "code",
   "execution_count": 46,
   "metadata": {},
   "outputs": [
    {
     "name": "stdout",
     "output_type": "stream",
     "text": [
      "GaussianNB Accuracy: 94.0376569037657% \n",
      "\n",
      "[[0.97154472 0.0203252  0.00813008]\n",
      " [0.02597403 0.94805195 0.02597403]\n",
      " [0.03966597 0.03966597 0.92066806]]\n",
      "              precision    recall  f1-score   support\n",
      "\n",
      "     class 0       0.91      0.97      0.94       246\n",
      "     class 1       0.90      0.95      0.92       231\n",
      "     class 2       0.98      0.92      0.95       479\n",
      "\n",
      "    accuracy                           0.94       956\n",
      "   macro avg       0.93      0.95      0.94       956\n",
      "weighted avg       0.94      0.94      0.94       956\n",
      "\n",
      "\n",
      "F1-score is : 0.9372455231183117\n",
      "Cross validation score is : 94.9786730620654\n"
     ]
    }
   ],
   "source": [
    "gnb = GaussianNB().fit(X_train_ros, y_train_ros) \n",
    "\n",
    "pred_gnb = gnb.predict(X_test) \n",
    "  \n",
    "accuracy_gnb = gnb.score(X_test, y_test) *100 \n",
    "print(\"GaussianNB Accuracy: {}% \\n\".format(accuracy_gnb))\n",
    "\n",
    "cm = confusion_matrix(y_test, pred_gnb) \n",
    "cm = cm.astype('float') / cm.sum(axis=1)[:, np.newaxis]\n",
    "print(cm)\n",
    "\n",
    "target_names = ['class 0','class 1','class 2']\n",
    "print(classification_report(y_test, pred_gnb, target_names=target_names))\n",
    "print()\n",
    "\n",
    "f1_gnb = f1_score(y_test, pred_gnb, average='macro')\n",
    "cross_val_gnb = np.mean(cross_val_score(gnb, X_train_ros, y_train_ros, cv=10))*100\n",
    "print('F1-score is :', f1_gnb)\n",
    "print('Cross validation score is :', cross_val_gnb)"
   ]
  },
  {
   "cell_type": "markdown",
   "metadata": {},
   "source": [
    "- KNeighborsClassifier"
   ]
  },
  {
   "cell_type": "code",
   "execution_count": 47,
   "metadata": {},
   "outputs": [
    {
     "data": {
      "image/png": "[encoded data removed]",
      "text/plain": [
       "<Figure size 432x288 with 1 Axes>"
      ]
     },
     "metadata": {},
     "output_type": "display_data"
    },
    {
     "name": "stdout",
     "output_type": "stream",
     "text": [
      "Optimal k is:  1\n",
      "KNN Accuracy: 75.0%\n",
      "              precision    recall  f1-score   support\n",
      "\n",
      "     class 0       0.71      0.80      0.75       246\n",
      "     class 1       0.64      0.89      0.74       231\n",
      "     class 2       0.88      0.66      0.75       479\n",
      "\n",
      "    accuracy                           0.75       956\n",
      "   macro avg       0.74      0.78      0.75       956\n",
      "weighted avg       0.78      0.75      0.75       956\n",
      "\n",
      "\n",
      "F1-score is : 0.7492637382375148\n",
      "Cross validation score is : 86.81037535410766\n"
     ]
    }
   ],
   "source": [
    "# training a KNN classifier \n",
    "myList = list(range(1,100))\n",
    "neighbors = list(filter(lambda x: x%2!=0, myList))\n",
    "cv_scores = []\n",
    "for k in neighbors:\n",
    "    knn_model = KNeighborsClassifier(n_neighbors=k)\n",
    "    scores = cross_val_score(knn_model, X_train_ros, y_train_ros, cv=10, scoring='f1_macro')\n",
    "    cv_scores.append(scores.mean())\n",
    "    \n",
    "mean_error = [1-x for x in cv_scores]\n",
    "\n",
    "plt.plot(neighbors, mean_error)\n",
    "plt.xlabel('Number of Neighbors k')\n",
    "plt.ylabel('Misclassification Error')\n",
    "plt.show()\n",
    "\n",
    "optimal_k = neighbors[mean_error.index(min(mean_error))]\n",
    "print('Optimal k is: ', optimal_k)\n",
    "\n",
    "knn_model = KNeighborsClassifier(n_neighbors = optimal_k, n_jobs=-1)\n",
    "knn_model.fit(X_train_ros, y_train_ros)\n",
    "pred_knn = knn_model.predict(X_test)\n",
    "accuracy_knn = accuracy_score(y_test, pred_knn)*100\n",
    "print(\"KNN Accuracy: {}%\".format(accuracy_knn))\n",
    "\n",
    "target_names = ['class 0','class 1','class 2']\n",
    "print(classification_report(y_test, pred_knn, target_names=target_names))\n",
    "print()\n",
    "\n",
    "f1_knn = f1_score(y_test, pred_knn, average='macro')\n",
    "cross_val_knn = np.mean(cross_val_score(knn_model, X_train_ros, y_train_ros, cv=10))*100\n",
    "print('F1-score is :', f1_knn)\n",
    "print('Cross validation score is :', cross_val_knn)"
   ]
  },
  {
   "cell_type": "markdown",
   "metadata": {},
   "source": [
    "- LogisticRegression"
   ]
  },
  {
   "cell_type": "code",
   "execution_count": 48,
   "metadata": {},
   "outputs": [
    {
     "name": "stdout",
     "output_type": "stream",
     "text": [
      "LogisticRegression Accuracy: 93.82845188284519%\n",
      "              precision    recall  f1-score   support\n",
      "\n",
      "     class 0       0.91      0.96      0.93       246\n",
      "     class 1       0.88      0.93      0.90       231\n",
      "     class 2       0.98      0.94      0.96       479\n",
      "\n",
      "    accuracy                           0.94       956\n",
      "   macro avg       0.93      0.94      0.93       956\n",
      "weighted avg       0.94      0.94      0.94       956\n",
      "\n",
      "\n",
      "F1-score is : 0.9321737249057053\n",
      "Cross validation score is : 96.79508434200359\n"
     ]
    }
   ],
   "source": [
    "with ignore_warnings(category=ConvergenceWarning):\n",
    "\n",
    "    logreg = LogisticRegression()\n",
    "    logreg.fit(X_train_ros, y_train_ros) \n",
    "    pred_logreg = logreg.predict(X_test) \n",
    "    accuracy_logreg = logreg.score(X_test, y_test) * 100\n",
    "    print(\"LogisticRegression Accuracy: {}%\".format(accuracy_logreg))\n",
    "\n",
    "    target_names = ['class 0','class 1','class 2']\n",
    "    print(classification_report(y_test, pred_logreg, target_names=target_names))\n",
    "    print()\n",
    "\n",
    "    f1_logreg = f1_score(y_test, pred_logreg, average='macro')\n",
    "    cross_val_logreg = np.mean(cross_val_score(logreg, X_train_ros, y_train_ros, cv=10))*100\n",
    "    print('F1-score is :', f1_logreg)\n",
    "    print('Cross validation score is :', cross_val_logreg)"
   ]
  },
  {
   "cell_type": "markdown",
   "metadata": {},
   "source": [
    "- MLPClassifier"
   ]
  },
  {
   "cell_type": "code",
   "execution_count": 49,
   "metadata": {},
   "outputs": [
    {
     "name": "stdout",
     "output_type": "stream",
     "text": [
      "MLP Accuracy: 94.0376569037657%\n",
      "              precision    recall  f1-score   support\n",
      "\n",
      "     class 0       0.92      0.95      0.93       246\n",
      "     class 1       0.89      0.94      0.92       231\n",
      "     class 2       0.98      0.94      0.96       479\n",
      "\n",
      "    accuracy                           0.94       956\n",
      "   macro avg       0.93      0.94      0.93       956\n",
      "weighted avg       0.94      0.94      0.94       956\n",
      "\n",
      "\n",
      "F1-score is : 0.9349892970350178\n",
      "Cross validation score is : 97.58925122328095\n"
     ]
    }
   ],
   "source": [
    "MLP_model = MLPClassifier()\n",
    "MLP_model.fit(X_train_ros, y_train_ros)\n",
    "\n",
    "pred_mlp = MLP_model.predict(X_test) \n",
    "\n",
    "accuracy_mlp = MLP_model.score(X_test, y_test) * 100\n",
    "print(\"MLP Accuracy: {}%\".format(accuracy_mlp))\n",
    "\n",
    "with ignore_warnings(category=ConvergenceWarning):\n",
    "    target_names = ['class 0','class 1','class 2']\n",
    "    print(classification_report(y_test, pred_mlp, target_names=target_names))\n",
    "    print()\n",
    "\n",
    "    f1_mlp = f1_score(y_test, pred_mlp, average='macro')\n",
    "    cross_val_mlp = np.mean(cross_val_score(MLP_model, X_train_ros, y_train_ros, cv=10))*100\n",
    "    print('F1-score is :', f1_mlp)\n",
    "    print('Cross validation score is :', cross_val_mlp)"
   ]
  },
  {
   "cell_type": "markdown",
   "metadata": {},
   "source": [
    "- SVMClassifier rbf_kernel"
   ]
  },
  {
   "cell_type": "code",
   "execution_count": 50,
   "metadata": {},
   "outputs": [
    {
     "name": "stdout",
     "output_type": "stream",
     "text": [
      "SVM Accuracy: 95.92050209205021%\n",
      "              precision    recall  f1-score   support\n",
      "\n",
      "     class 0       0.94      0.96      0.95       246\n",
      "     class 1       0.92      0.96      0.94       231\n",
      "     class 2       0.99      0.96      0.97       479\n",
      "\n",
      "    accuracy                           0.96       956\n",
      "   macro avg       0.95      0.96      0.95       956\n",
      "weighted avg       0.96      0.96      0.96       956\n",
      "\n",
      "\n",
      "F1-score is : 0.9542643225866563\n",
      "Cross validation score is : 98.12821916044297\n"
     ]
    }
   ],
   "source": [
    "svm_model = SVC(probability=True)\n",
    "\n",
    "svm_model.fit(X_train_ros, y_train_ros)\n",
    "pred_svm = svm_model.predict(X_test)\n",
    "accuracy_svm = accuracy_score(y_test, pred_svm)*100\n",
    "print(\"SVM Accuracy: {}%\".format(accuracy_svm))\n",
    "\n",
    "target_names = ['class 0','class 1','class 2']\n",
    "print(classification_report(y_test, pred_svm, target_names=target_names))\n",
    "print()\n",
    "\n",
    "f1_svm = f1_score(y_test, pred_svm, average='macro')\n",
    "cross_val_svm = np.mean(cross_val_score(svm_model, X_train_ros, y_train_ros, cv=10))*100\n",
    "print('F1-score is :', f1_svm)\n",
    "print('Cross validation score is :', cross_val_svm)"
   ]
  },
  {
   "cell_type": "markdown",
   "metadata": {},
   "source": [
    "- SVMClassifier linear_kernel"
   ]
  },
  {
   "cell_type": "code",
   "execution_count": 51,
   "metadata": {},
   "outputs": [
    {
     "name": "stdout",
     "output_type": "stream",
     "text": [
      "SVM Linear Accuracy: 92.67782426778243%\n",
      "              precision    recall  f1-score   support\n",
      "\n",
      "     class 0       0.88      0.93      0.91       246\n",
      "     class 1       0.90      0.90      0.90       231\n",
      "     class 2       0.96      0.94      0.95       479\n",
      "\n",
      "    accuracy                           0.93       956\n",
      "   macro avg       0.92      0.92      0.92       956\n",
      "weighted avg       0.93      0.93      0.93       956\n",
      "\n",
      "\n",
      "F1-score is : 0.919187460213101\n",
      "Cross validation score is : 96.51187870203451\n"
     ]
    }
   ],
   "source": [
    "#SVM Linear\n",
    "svm_model_linear = SVC(kernel = 'linear', C = 1).fit(X_train_ros, y_train_ros) \n",
    "pred_svm_lin = svm_model_linear.predict(X_test)  \n",
    "accuracy_svm_lin = svm_model_linear.score(X_test, y_test) * 100\n",
    "print(\"SVM Linear Accuracy: {}%\".format(accuracy_svm_lin))\n",
    "\n",
    "target_names = ['class 0','class 1','class 2']\n",
    "print(classification_report(y_test, pred_svm_lin, target_names=target_names))\n",
    "print()\n",
    "\n",
    "f1_svm_linear = f1_score(y_test, pred_svm_lin, average='macro')\n",
    "cross_val_svm_linear = np.mean(cross_val_score(svm_model_linear, X_train_ros, y_train_ros, cv=10))*100\n",
    "print('F1-score is :', f1_svm_linear)\n",
    "print('Cross validation score is :', cross_val_svm_linear)"
   ]
  },
  {
   "cell_type": "markdown",
   "metadata": {},
   "source": [
    "- SVMClassifier polynomial_kernel"
   ]
  },
  {
   "cell_type": "code",
   "execution_count": 52,
   "metadata": {},
   "outputs": [
    {
     "name": "stdout",
     "output_type": "stream",
     "text": [
      "SVM Poly Accuracy: 94.24686192468619%\n",
      "              precision    recall  f1-score   support\n",
      "\n",
      "     class 0       0.94      0.92      0.93       246\n",
      "     class 1       0.91      0.94      0.93       231\n",
      "     class 2       0.96      0.95      0.96       479\n",
      "\n",
      "    accuracy                           0.94       956\n",
      "   macro avg       0.94      0.94      0.94       956\n",
      "weighted avg       0.94      0.94      0.94       956\n",
      "\n",
      "\n",
      "F1-score is : 0.937599745440674\n",
      "Cross validation score is : 98.07172289466907\n"
     ]
    }
   ],
   "source": [
    "svm_model_poly = SVC(kernel='poly').fit(X_train_ros, y_train_ros) \n",
    "\n",
    "pred_svm_poly = svm_model_poly.predict(X_test) \n",
    "  \n",
    "accuracy_svm_poly = svm_model_poly.score(X_test, y_test) * 100\n",
    "print(\"SVM Poly Accuracy: {}%\".format(accuracy_svm_poly))\n",
    "\n",
    "target_names = ['class 0','class 1','class 2']\n",
    "print(classification_report(y_test, pred_svm_poly, target_names=target_names))\n",
    "print()\n",
    "\n",
    "f1_svm_poly = f1_score(y_test, pred_svm_poly, average='macro')\n",
    "cross_val_svm_poly = np.mean(cross_val_score(svm_model_poly, X_train_ros, y_train_ros, cv=10))*100\n",
    "print('F1-score is :', f1_svm_poly)\n",
    "print('Cross validation score is :', cross_val_svm_poly)"
   ]
  },
  {
   "cell_type": "markdown",
   "metadata": {},
   "source": [
    "- Markdown table"
   ]
  },
  {
   "cell_type": "markdown",
   "metadata": {},
   "source": [
    "| Classifier             | Accuracy %  | F1-score | Cross validation % |\n",
    "|------------------------|-------------|----------|------------------|\n",
    "| dummy                  | 25.7322     | 0.1364     | 33.1915          |\n",
    "| Gaussian Naive Bayes   | 94.0376     | 0.9372     | 94.9786          |\n",
    "| K Neirest Neighbors    | 75.0000     | 0.7492     | 86.8103          |\n",
    "| Logistic Regression    | 93.8284     | 0.9321     | 96.7950          |\n",
    "| Multi-Layer Perceptron | 94.0376     | 0.9349     | 97.5892          |\n",
    "| SVM (kernel = rbf)     | 95.9205     | 0.9542     | 98.1282          |\n",
    "| SVM (kernel = linear)  | 92.6778     | 0.9191     | 96.5118         |\n",
    "| SVM (kernel = poly)    | 94.2468     | 0.9375     | 98.0717          |"
   ]
  },
  {
   "cell_type": "code",
   "execution_count": 53,
   "metadata": {},
   "outputs": [
    {
     "data": {
      "image/png": "[encoded data removed]",
      "text/plain": [
       "<Figure size 720x360 with 1 Axes>"
      ]
     },
     "metadata": {},
     "output_type": "display_data"
    },
    {
     "data": {
      "image/png": "[encoded data removed]",
      "text/plain": [
       "<Figure size 720x360 with 1 Axes>"
      ]
     },
     "metadata": {},
     "output_type": "display_data"
    }
   ],
   "source": [
    "acc = [accuracy_dummy, accuracy_gnb, accuracy_knn, accuracy_logreg, accuracy_mlp, accuracy_svm, accuracy_svm_lin, accuracy_svm_poly]\n",
    "f1 =[f1_dummy, f1_gnb, f1_knn, f1_logreg, f1_mlp, f1_svm, f1_svm_linear, f1_svm_poly]\n",
    "classifiers = ['dummy', 'GNB', 'KNN', 'LOGREG', 'MLP', 'SVM(RBF)', 'SVM(LIN)', 'SVM(POLY)']  \n",
    "\n",
    "#accuracy bar plot\n",
    "fig, ax = plt.subplots(figsize=(10,5))\n",
    "ax.set_xlabel('Classifiers',fontsize = 15) #xlabel\n",
    "ax.set_ylabel('Accuracy', fontsize = 15) #ylabel\n",
    "\n",
    "plt.yticks(rotation=30, size = 10)\n",
    "plt.xticks(rotation=0, size = 10)\n",
    "\n",
    "ax = sn.barplot(x=acc, y=classifiers)\n",
    "ax.set_title(\"Accuracy of all classifiers\", fontsize= 15)\n",
    "\n",
    "\n",
    "plt.tight_layout()\n",
    "plt.show()\n",
    "\n",
    "#f1-score bar plot\n",
    "fig, ax = plt.subplots(figsize=(10,5))\n",
    "ax.set_xlabel('Classifiers',fontsize = 15) #xlabel\n",
    "ax.set_ylabel('F1-score', fontsize = 15) #ylabel\n",
    "\n",
    "plt.yticks(rotation=30, size = 10)\n",
    "plt.xticks(rotation=0, size = 10)\n",
    "\n",
    "ax = sn.barplot(x=f1, y=classifiers)\n",
    "ax.set_title(\"F1-score of all classifiers\", fontsize= 15)\n",
    "\n",
    "\n",
    "plt.tight_layout()\n",
    "plt.show()"
   ]
  },
  {
   "cell_type": "markdown",
   "metadata": {},
   "source": [
    "Except of the dummy classifier we see an increase at the scores due to oversampling"
   ]
  },
  {
   "cell_type": "markdown",
   "metadata": {},
   "source": [
    "- Reqularization of features "
   ]
  },
  {
   "cell_type": "markdown",
   "metadata": {},
   "source": [
    "Standard Scaler"
   ]
  },
  {
   "cell_type": "code",
   "execution_count": 54,
   "metadata": {},
   "outputs": [
    {
     "name": "stderr",
     "output_type": "stream",
     "text": [
      "C:\\Users\\nanos\\miniconda3\\lib\\site-packages\\sklearn\\preprocessing\\_data.py:235: UserWarning: Numerical issues were encountered when centering the data and might not be solved. Dataset may contain too large values. You may need to prescale your features.\n",
      "  warnings.warn(\n",
      "C:\\Users\\nanos\\miniconda3\\lib\\site-packages\\sklearn\\preprocessing\\_data.py:254: UserWarning: Numerical issues were encountered when scaling the data and might not be solved. The standard deviation of the data is probably very close to 0. \n",
      "  warnings.warn(\n"
     ]
    }
   ],
   "source": [
    "from sklearn import preprocessing\n",
    "scaler = preprocessing.StandardScaler().fit(X_train_ros)\n",
    "X_train_scaled = preprocessing.scale(X_train_ros)\n",
    "X_test_scaled = scaler.transform(X_test)"
   ]
  },
  {
   "cell_type": "markdown",
   "metadata": {},
   "source": [
    "- dummy"
   ]
  },
  {
   "cell_type": "code",
   "execution_count": 55,
   "metadata": {},
   "outputs": [
    {
     "name": "stdout",
     "output_type": "stream",
     "text": [
      "Dummy Accuracy: 25.732217573221757% \n",
      "\n",
      "              precision    recall  f1-score   support\n",
      "\n",
      "     class 0       0.26      1.00      0.41       246\n",
      "     class 1       0.00      0.00      0.00       231\n",
      "     class 2       0.00      0.00      0.00       479\n",
      "\n",
      "    accuracy                           0.26       956\n",
      "   macro avg       0.09      0.33      0.14       956\n",
      "weighted avg       0.07      0.26      0.11       956\n",
      "\n",
      "\n",
      "F1-score is : 0.13643926788685523\n",
      "Cross validation score is : 33.19155614215813\n"
     ]
    },
    {
     "name": "stderr",
     "output_type": "stream",
     "text": [
      "C:\\Users\\nanos\\miniconda3\\lib\\site-packages\\sklearn\\metrics\\_classification.py:1308: UndefinedMetricWarning: Precision and F-score are ill-defined and being set to 0.0 in labels with no predicted samples. Use `zero_division` parameter to control this behavior.\n",
      "  _warn_prf(average, modifier, msg_start, len(result))\n",
      "C:\\Users\\nanos\\miniconda3\\lib\\site-packages\\sklearn\\metrics\\_classification.py:1308: UndefinedMetricWarning: Precision and F-score are ill-defined and being set to 0.0 in labels with no predicted samples. Use `zero_division` parameter to control this behavior.\n",
      "  _warn_prf(average, modifier, msg_start, len(result))\n",
      "C:\\Users\\nanos\\miniconda3\\lib\\site-packages\\sklearn\\metrics\\_classification.py:1308: UndefinedMetricWarning: Precision and F-score are ill-defined and being set to 0.0 in labels with no predicted samples. Use `zero_division` parameter to control this behavior.\n",
      "  _warn_prf(average, modifier, msg_start, len(result))\n"
     ]
    }
   ],
   "source": [
    "dummy = DummyClassifier().fit(X_train_scaled, y_train_ros) \n",
    "\n",
    "pred_dummy = dummy.predict(X_test_scaled) \n",
    "  \n",
    "accuracy_dummy = dummy.score(X_test_scaled, y_test) * 100 \n",
    "print(\"Dummy Accuracy: {}% \\n\".format(accuracy_dummy))\n",
    "\n",
    "target_names = ['class 0','class 1','class 2']\n",
    "print(classification_report(y_test, pred_dummy, target_names=target_names))\n",
    "print()\n",
    "\n",
    "f1_dummy = f1_score(y_test, pred_dummy, average='macro')\n",
    "cross_val_dummy = np.mean(cross_val_score(dummy, X_train_scaled, y_train_ros, cv=10))*100\n",
    "print('F1-score is :', f1_dummy)\n",
    "print('Cross validation score is :', cross_val_dummy)"
   ]
  },
  {
   "cell_type": "markdown",
   "metadata": {},
   "source": [
    "- GaussianNB"
   ]
  },
  {
   "cell_type": "code",
   "execution_count": 56,
   "metadata": {},
   "outputs": [
    {
     "name": "stdout",
     "output_type": "stream",
     "text": [
      "GaussianNB Accuracy: 94.0376569037657% \n",
      "\n",
      "[[0.97154472 0.0203252  0.00813008]\n",
      " [0.02597403 0.94805195 0.02597403]\n",
      " [0.03966597 0.03966597 0.92066806]]\n",
      "              precision    recall  f1-score   support\n",
      "\n",
      "     class 0       0.91      0.97      0.94       246\n",
      "     class 1       0.90      0.95      0.92       231\n",
      "     class 2       0.98      0.92      0.95       479\n",
      "\n",
      "    accuracy                           0.94       956\n",
      "   macro avg       0.93      0.95      0.94       956\n",
      "weighted avg       0.94      0.94      0.94       956\n",
      "\n",
      "\n",
      "F1-score is : 0.9372455231183117\n",
      "Cross validation score is : 95.0070821529745\n"
     ]
    }
   ],
   "source": [
    "gnb = GaussianNB().fit(X_train_scaled, y_train_ros) \n",
    "\n",
    "pred_gnb = gnb.predict(X_test_scaled) \n",
    "  \n",
    "accuracy_gnb = gnb.score(X_test_scaled, y_test) *100 \n",
    "print(\"GaussianNB Accuracy: {}% \\n\".format(accuracy_gnb))\n",
    "\n",
    "cm = confusion_matrix(y_test, pred_gnb) \n",
    "cm = cm.astype('float') / cm.sum(axis=1)[:, np.newaxis]\n",
    "print(cm)\n",
    "\n",
    "target_names = ['class 0','class 1','class 2']\n",
    "print(classification_report(y_test, pred_gnb, target_names=target_names))\n",
    "print()\n",
    "\n",
    "f1_gnb = f1_score(y_test, pred_gnb, average='macro')\n",
    "cross_val_gnb = np.mean(cross_val_score(gnb, X_train_scaled, y_train_ros, cv=10))*100\n",
    "print('F1-score is :', f1_gnb)\n",
    "print('Cross validation score is :', cross_val_gnb)"
   ]
  },
  {
   "cell_type": "markdown",
   "metadata": {},
   "source": [
    "- KNeighborsClassifier"
   ]
  },
  {
   "cell_type": "code",
   "execution_count": 57,
   "metadata": {},
   "outputs": [
    {
     "data": {
      "image/png": "[encoded data removed]",
      "text/plain": [
       "<Figure size 432x288 with 1 Axes>"
      ]
     },
     "metadata": {},
     "output_type": "display_data"
    },
    {
     "name": "stdout",
     "output_type": "stream",
     "text": [
      "Optimal k is:  1\n",
      "KNN Accuracy: 73.9539748953975%\n",
      "              precision    recall  f1-score   support\n",
      "\n",
      "     class 0       0.71      0.78      0.74       246\n",
      "     class 1       0.61      0.90      0.73       231\n",
      "     class 2       0.90      0.64      0.75       479\n",
      "\n",
      "    accuracy                           0.74       956\n",
      "   macro avg       0.74      0.77      0.74       956\n",
      "weighted avg       0.78      0.74      0.74       956\n",
      "\n",
      "\n",
      "F1-score is : 0.7382792302046749\n",
      "Cross validation score is : 85.61920551120268\n"
     ]
    }
   ],
   "source": [
    "# training a KNN classifier \n",
    "myList = list(range(1,100))\n",
    "neighbors = list(filter(lambda x: x%2!=0, myList))\n",
    "cv_scores = []\n",
    "for k in neighbors:\n",
    "    knn_model = KNeighborsClassifier(n_neighbors=k)\n",
    "    scores = cross_val_score(knn_model, X_train_scaled, y_train_ros, cv=10, scoring='f1_macro')\n",
    "    cv_scores.append(scores.mean())\n",
    "    \n",
    "mean_error = [1-x for x in cv_scores]\n",
    "\n",
    "plt.plot(neighbors, mean_error)\n",
    "plt.xlabel('Number of Neighbors k')\n",
    "plt.ylabel('Misclassification Error')\n",
    "plt.show()\n",
    "\n",
    "optimal_k = neighbors[mean_error.index(min(mean_error))]\n",
    "print('Optimal k is: ', optimal_k)\n",
    "\n",
    "knn_model = KNeighborsClassifier(n_neighbors = optimal_k, n_jobs=-1)\n",
    "knn_model.fit(X_train_scaled, y_train_ros)\n",
    "pred_knn = knn_model.predict(X_test_scaled)\n",
    "accuracy_knn = accuracy_score(y_test, pred_knn)*100\n",
    "print(\"KNN Accuracy: {}%\".format(accuracy_knn))\n",
    "\n",
    "target_names = ['class 0','class 1','class 2']\n",
    "print(classification_report(y_test, pred_knn, target_names=target_names))\n",
    "print()\n",
    "\n",
    "f1_knn = f1_score(y_test, pred_knn, average='macro')\n",
    "cross_val_knn = np.mean(cross_val_score(knn_model, X_train_scaled, y_train_ros, cv=10))*100\n",
    "print('F1-score is :', f1_knn)\n",
    "print('Cross validation score is :', cross_val_knn)"
   ]
  },
  {
   "cell_type": "markdown",
   "metadata": {},
   "source": [
    "- LogisticRegression"
   ]
  },
  {
   "cell_type": "code",
   "execution_count": 58,
   "metadata": {},
   "outputs": [
    {
     "name": "stdout",
     "output_type": "stream",
     "text": [
      "LogisticRegression Accuracy: 92.78242677824268%\n",
      "              precision    recall  f1-score   support\n",
      "\n",
      "     class 0       0.90      0.94      0.92       246\n",
      "     class 1       0.88      0.91      0.90       231\n",
      "     class 2       0.97      0.93      0.95       479\n",
      "\n",
      "    accuracy                           0.93       956\n",
      "   macro avg       0.92      0.93      0.92       956\n",
      "weighted avg       0.93      0.93      0.93       956\n",
      "\n",
      "\n",
      "F1-score is : 0.9212562832032959\n",
      "Cross validation score is : 96.93729075457121\n"
     ]
    }
   ],
   "source": [
    "with ignore_warnings(category=ConvergenceWarning):\n",
    "\n",
    "    logreg = LogisticRegression()\n",
    "    logreg.fit(X_train_scaled, y_train_ros) \n",
    "    pred_logreg = logreg.predict(X_test_scaled) \n",
    "    accuracy_logreg = logreg.score(X_test_scaled, y_test) * 100\n",
    "    print(\"LogisticRegression Accuracy: {}%\".format(accuracy_logreg))\n",
    "\n",
    "    target_names = ['class 0','class 1','class 2']\n",
    "    print(classification_report(y_test, pred_logreg, target_names=target_names))\n",
    "    print()\n",
    "\n",
    "    f1_logreg = f1_score(y_test, pred_logreg, average='macro')\n",
    "    cross_val_logreg = np.mean(cross_val_score(logreg, X_train_scaled, y_train_ros, cv=10))*100\n",
    "    print('F1-score is :', f1_logreg)\n",
    "    print('Cross validation score is :', cross_val_logreg)"
   ]
  },
  {
   "cell_type": "markdown",
   "metadata": {},
   "source": [
    "- MLPClassifier"
   ]
  },
  {
   "cell_type": "code",
   "execution_count": 59,
   "metadata": {},
   "outputs": [
    {
     "name": "stdout",
     "output_type": "stream",
     "text": [
      "MLP Accuracy: 92.67782426778243%\n",
      "              precision    recall  f1-score   support\n",
      "\n",
      "     class 0       0.90      0.94      0.92       246\n",
      "     class 1       0.89      0.94      0.91       231\n",
      "     class 2       0.97      0.91      0.94       479\n",
      "\n",
      "    accuracy                           0.93       956\n",
      "   macro avg       0.92      0.93      0.92       956\n",
      "weighted avg       0.93      0.93      0.93       956\n",
      "\n",
      "\n",
      "F1-score is : 0.9231627661546798\n",
      "Cross validation score is : 96.88055305176408\n"
     ]
    }
   ],
   "source": [
    "MLP_model = MLPClassifier(solver='adam', alpha=1e-5, hidden_layer_sizes=(15, 10, 5), random_state=1)\n",
    "MLP_model.fit(X_train_scaled, y_train_ros)\n",
    "\n",
    "pred_mlp = MLP_model.predict(X_test_scaled) \n",
    "\n",
    "accuracy_mlp = MLP_model.score(X_test_scaled, y_test) * 100\n",
    "print(\"MLP Accuracy: {}%\".format(accuracy_mlp))\n",
    "\n",
    "with ignore_warnings(category=ConvergenceWarning):\n",
    "    target_names = ['class 0','class 1','class 2']\n",
    "    print(classification_report(y_test, pred_mlp, target_names=target_names))\n",
    "    print()\n",
    "\n",
    "    f1_mlp = f1_score(y_test, pred_mlp, average='macro')\n",
    "    cross_val_mlp = np.mean(cross_val_score(MLP_model, X_train_scaled, y_train_ros, cv=10))*100\n",
    "    print('F1-score is :', f1_mlp)\n",
    "    print('Cross validation score is :', cross_val_mlp)"
   ]
  },
  {
   "cell_type": "markdown",
   "metadata": {},
   "source": [
    "- SVMClassifier rbf_kernel"
   ]
  },
  {
   "cell_type": "code",
   "execution_count": 60,
   "metadata": {},
   "outputs": [
    {
     "name": "stdout",
     "output_type": "stream",
     "text": [
      "SVM Accuracy: 96.02510460251045%\n",
      "              precision    recall  f1-score   support\n",
      "\n",
      "     class 0       0.94      0.96      0.95       246\n",
      "     class 1       0.93      0.96      0.94       231\n",
      "     class 2       0.99      0.96      0.97       479\n",
      "\n",
      "    accuracy                           0.96       956\n",
      "   macro avg       0.95      0.96      0.96       956\n",
      "weighted avg       0.96      0.96      0.96       956\n",
      "\n",
      "\n",
      "F1-score is : 0.9556355914701241\n",
      "Cross validation score is : 98.09981006953386\n"
     ]
    }
   ],
   "source": [
    "svm_model = SVC(probability=True)\n",
    "\n",
    "svm_model.fit(X_train_scaled, y_train_ros)\n",
    "pred_svm = svm_model.predict(X_test_scaled)\n",
    "accuracy_svm = accuracy_score(y_test, pred_svm)*100\n",
    "print(\"SVM Accuracy: {}%\".format(accuracy_svm))\n",
    "\n",
    "target_names = ['class 0','class 1','class 2']\n",
    "print(classification_report(y_test, pred_svm, target_names=target_names))\n",
    "print()\n",
    "\n",
    "f1_svm = f1_score(y_test, pred_svm, average='macro')\n",
    "cross_val_svm = np.mean(cross_val_score(svm_model, X_train_scaled, y_train_ros, cv=10))*100\n",
    "print('F1-score is :', f1_svm)\n",
    "print('Cross validation score is :', cross_val_svm)"
   ]
  },
  {
   "cell_type": "markdown",
   "metadata": {},
   "source": [
    "- SVMClassifier linear_kernel"
   ]
  },
  {
   "cell_type": "code",
   "execution_count": 61,
   "metadata": {},
   "outputs": [
    {
     "name": "stdout",
     "output_type": "stream",
     "text": [
      "SVM Linear Accuracy: 92.46861924686193%\n",
      "              precision    recall  f1-score   support\n",
      "\n",
      "     class 0       0.88      0.95      0.91       246\n",
      "     class 1       0.90      0.89      0.90       231\n",
      "     class 2       0.97      0.93      0.95       479\n",
      "\n",
      "    accuracy                           0.92       956\n",
      "   macro avg       0.91      0.92      0.92       956\n",
      "weighted avg       0.93      0.92      0.93       956\n",
      "\n",
      "\n",
      "F1-score is : 0.9175389781837805\n",
      "Cross validation score is : 96.45514099922741\n"
     ]
    }
   ],
   "source": [
    "#SVM Linear\n",
    "svm_model_linear = SVC(kernel = 'linear', C = 1).fit(X_train_scaled, y_train_ros) \n",
    "pred_svm_lin = svm_model_linear.predict(X_test_scaled)  \n",
    "accuracy_svm_lin = svm_model_linear.score(X_test_scaled, y_test) * 100\n",
    "print(\"SVM Linear Accuracy: {}%\".format(accuracy_svm_lin))\n",
    "\n",
    "target_names = ['class 0','class 1','class 2']\n",
    "print(classification_report(y_test, pred_svm_lin, target_names=target_names))\n",
    "print()\n",
    "\n",
    "f1_svm_linear = f1_score(y_test, pred_svm_lin, average='macro')\n",
    "cross_val_svm_linear = np.mean(cross_val_score(svm_model_linear, X_train_scaled, y_train_ros, cv=10))*100\n",
    "print('F1-score is :', f1_svm_linear)\n",
    "print('Cross validation score is :', cross_val_svm_linear)"
   ]
  },
  {
   "cell_type": "markdown",
   "metadata": {},
   "source": [
    "- SVMClassifier polynomial_kernel"
   ]
  },
  {
   "cell_type": "code",
   "execution_count": 62,
   "metadata": {},
   "outputs": [
    {
     "name": "stdout",
     "output_type": "stream",
     "text": [
      "SVM Poly Accuracy: 89.01673640167364%\n",
      "              precision    recall  f1-score   support\n",
      "\n",
      "     class 0       0.99      0.70      0.82       246\n",
      "     class 1       0.93      0.89      0.91       231\n",
      "     class 2       0.84      0.99      0.91       479\n",
      "\n",
      "    accuracy                           0.89       956\n",
      "   macro avg       0.92      0.86      0.88       956\n",
      "weighted avg       0.90      0.89      0.89       956\n",
      "\n",
      "\n",
      "F1-score is : 0.8804161353447211\n",
      "Cross validation score is : 97.3929629152717\n"
     ]
    }
   ],
   "source": [
    "svm_model_poly = SVC(kernel='poly').fit(X_train_scaled, y_train_ros) \n",
    "\n",
    "pred_svm_poly = svm_model_poly.predict(X_test_scaled) \n",
    "  \n",
    "accuracy_svm_poly = svm_model_poly.score(X_test_scaled, y_test) * 100\n",
    "print(\"SVM Poly Accuracy: {}%\".format(accuracy_svm_poly))\n",
    "\n",
    "target_names = ['class 0','class 1','class 2']\n",
    "print(classification_report(y_test, pred_svm_poly, target_names=target_names))\n",
    "print()\n",
    "\n",
    "f1_svm_poly = f1_score(y_test, pred_svm_poly, average='macro')\n",
    "cross_val_svm_poly = np.mean(cross_val_score(svm_model_poly, X_train_scaled, y_train_ros, cv=10))*100\n",
    "print('F1-score is :', f1_svm_poly)\n",
    "print('Cross validation score is :', cross_val_svm_poly)"
   ]
  },
  {
   "cell_type": "markdown",
   "metadata": {},
   "source": [
    "| Classifier             | Accuracy %  | F1-score | Cross validation % |\n",
    "|------------------------|-------------|----------|------------------|\n",
    "| dummy                  | 25.7322     | 0.1364     | 33.1915          |\n",
    "| Gaussian Naive Bayes   | 94.0376     | 0.9372     | 95.0070          |\n",
    "| K Neirest Neighbors    | 73.9539     | 0.7382     | 85.6192          |\n",
    "| Logistic Regression    | 92.7824     | 0.9212    | 96.9372          |\n",
    "| Multi-Layer Perceptron | 92.6778     | 0.9231     | 96.8805          |\n",
    "| SVM (kernel = rbf)     |  96.0251     | 0.9556     | 98.0998          |\n",
    "| SVM (kernel = linear)  | 92.4686     |0.9175     | 96.4551          |\n",
    "| SVM (kernel = poly)    | 89.0167     | 0.8804     |  97.3929         |"
   ]
  },
  {
   "cell_type": "markdown",
   "metadata": {},
   "source": [
    "The scaling hasnt help any model improve. We observe a slight reduction in the scores, especially in the SVM poly kernel model"
   ]
  },
  {
   "cell_type": "markdown",
   "metadata": {},
   "source": [
    "GridsearchCV"
   ]
  },
  {
   "cell_type": "markdown",
   "metadata": {},
   "source": [
    "## __KNeighborsClassifier()__"
   ]
  },
  {
   "cell_type": "code",
   "execution_count": 64,
   "metadata": {},
   "outputs": [],
   "source": [
    "from sklearn.model_selection import GridSearchCV\n",
    "from imblearn.pipeline import Pipeline\n",
    "from imblearn.pipeline import Pipeline\n",
    "from sklearn import neighbors\n",
    "from sklearn.feature_selection import VarianceThreshold\n",
    "from sklearn.preprocessing import StandardScaler \n",
    "from sklearn.decomposition import PCA\n",
    "import time\n",
    "n_components = [1, 10, 20, 40, 100, 180]\n",
    "selector = VarianceThreshold()\n",
    "scaler = StandardScaler()\n",
    "ros = RandomOverSampler()\n",
    "pca = PCA()"
   ]
  },
  {
   "cell_type": "code",
   "execution_count": 65,
   "metadata": {},
   "outputs": [
    {
     "name": "stdout",
     "output_type": "stream",
     "text": [
      "Total time fit and predict: 1947.5439858436584 seconds\n",
      "              precision    recall  f1-score   support\n",
      "\n",
      "           0       0.88      0.86      0.87       246\n",
      "           1       0.81      0.92      0.86       231\n",
      "           2       0.93      0.88      0.90       479\n",
      "\n",
      "    accuracy                           0.88       956\n",
      "   macro avg       0.87      0.89      0.88       956\n",
      "weighted avg       0.89      0.88      0.89       956\n",
      "\n",
      "0.8936072447751158\n",
      "{'kNN__metric': 'minkowski', 'kNN__n_neighbors': 49, 'kNN__weights': 'distance', 'pca__n_components': 10}\n",
      "dict_keys(['cv', 'error_score', 'estimator__memory', 'estimator__steps', 'estimator__verbose', 'estimator__scaler', 'estimator__sampler', 'estimator__pca', 'estimator__kNN', 'estimator__scaler__copy', 'estimator__scaler__with_mean', 'estimator__scaler__with_std', 'estimator__sampler__random_state', 'estimator__sampler__sampling_strategy', 'estimator__sampler__shrinkage', 'estimator__pca__copy', 'estimator__pca__iterated_power', 'estimator__pca__n_components', 'estimator__pca__random_state', 'estimator__pca__svd_solver', 'estimator__pca__tol', 'estimator__pca__whiten', 'estimator__kNN__algorithm', 'estimator__kNN__leaf_size', 'estimator__kNN__metric', 'estimator__kNN__metric_params', 'estimator__kNN__n_jobs', 'estimator__kNN__n_neighbors', 'estimator__kNN__p', 'estimator__kNN__weights', 'estimator', 'n_jobs', 'param_grid', 'pre_dispatch', 'refit', 'return_train_score', 'scoring', 'verbose'])\n"
     ]
    }
   ],
   "source": [
    "n_components = [1, 10, 20, 40, 100, 180]\n",
    "k = list(range(1, 180))\n",
    "clf = neighbors.KNeighborsClassifier(n_jobs=-1) \n",
    "metrics = ['euclidean', 'minkowski', 'manhattan']\n",
    "weight_options = ['uniform', 'distance']\n",
    "param_grid = dict(pca__n_components=n_components, kNN__n_neighbors=k, kNN__metric = metrics, kNN__weights = weight_options)\n",
    "pipe = Pipeline(steps=[('scaler', scaler), ('sampler', ros), ('pca', pca), ('kNN', clf) ])\n",
    "estimator = GridSearchCV(pipe, param_grid , cv=10, scoring='f1_macro', n_jobs=-1) \n",
    "start_time = time.time()\n",
    "estimator.fit(X_train, y_train)\n",
    "preds = estimator.predict(X_test)\n",
    "print(\"Total time fit and predict: %s seconds\" % (time.time() - start_time))\n",
    "print(classification_report(y_test, preds))\n",
    "#print(estimator.cv_results_)\n",
    "print(estimator.best_score_)\n",
    "print(estimator.best_params_)\n",
    "\n",
    "print(estimator.get_params().keys())"
   ]
  },
  {
   "cell_type": "markdown",
   "metadata": {},
   "source": [
    "## __LogisticRegression()__"
   ]
  },
  {
   "cell_type": "code",
   "execution_count": 68,
   "metadata": {},
   "outputs": [
    {
     "name": "stdout",
     "output_type": "stream",
     "text": [
      "Total time fit and predict: 199.4397783279419 seconds\n",
      "              precision    recall  f1-score   support\n",
      "\n",
      "           0       0.90      0.94      0.92       246\n",
      "           1       0.88      0.90      0.89       231\n",
      "           2       0.96      0.93      0.95       479\n",
      "\n",
      "    accuracy                           0.93       956\n",
      "   macro avg       0.92      0.92      0.92       956\n",
      "weighted avg       0.93      0.93      0.93       956\n",
      "\n",
      "0.9695277845283045\n",
      "{'LogisticRegression__C': 1, 'LogisticRegression__penalty': 'l2', 'LogisticRegression__solver': 'sag', 'pca__n_components': 180}\n"
     ]
    }
   ],
   "source": [
    "with ignore_warnings(category=ConvergenceWarning):\n",
    "    solvers = [\"newton-cg\", \"sag\", \"saga\", \"lbfgs\"]\n",
    "    penalty = ['l2']\n",
    "    C = [0.001,.009,0.01,.09,1,5,10,25]\n",
    "    #param_grid = dict(pca__n_components = n_components, LogisticRegression__penalty = penalty, LogisticRegression__solver = solvers, LogisticRegression__C = C)\n",
    "    param_grid = dict(pca__n_components=n_components, LogisticRegression__penalty = penalty, LogisticRegression__solver = solvers, LogisticRegression__C = C)\n",
    "    clf = LogisticRegression(n_jobs=-1)\n",
    "    #pipe = Pipeline(steps=[('scaler', scaler), ('sampler', ros), ('pca', pca), ('LogisticRegression', clf) ], memory = 'tmp')\n",
    "    pipe = Pipeline([('scaler', scaler), ('pca', pca), ('LogisticRegression' , clf)])\n",
    "    estimator = GridSearchCV(pipe, param_grid, cv=10, scoring='f1_macro', n_jobs=-1)\n",
    "    start_time = time.time()\n",
    "    estimator.fit(X_train_ros, y_train_ros)\n",
    "    preds = estimator.predict(X_test)\n",
    "    print(\"Total time fit and predict: %s seconds\" % (time.time() - start_time))\n",
    "    print(classification_report(y_test, preds))\n",
    "    print(estimator.best_score_)\n",
    "    print(estimator.best_params_)"
   ]
  },
  {
   "cell_type": "markdown",
   "metadata": {},
   "source": [
    "## __GaussianNB()__"
   ]
  },
  {
   "cell_type": "code",
   "execution_count": 69,
   "metadata": {},
   "outputs": [
    {
     "name": "stdout",
     "output_type": "stream",
     "text": [
      "Total time fit and predict: 0.6963467597961426 seconds\n",
      "              precision    recall  f1-score   support\n",
      "\n",
      "           0       0.91      0.97      0.94       246\n",
      "           1       0.90      0.95      0.92       231\n",
      "           2       0.98      0.92      0.95       479\n",
      "\n",
      "    accuracy                           0.94       956\n",
      "   macro avg       0.93      0.95      0.94       956\n",
      "weighted avg       0.94      0.94      0.94       956\n",
      "\n",
      "0.9517893759152202\n",
      "{'GaussianNB__var_smoothing': 1e-07}\n"
     ]
    }
   ],
   "source": [
    "smooth = [1e-20, 1e-14, 1e-13, 1e-08, 1e-07]\n",
    "param_grid = dict(GaussianNB__var_smoothing= smooth)\n",
    "clf = GaussianNB()\n",
    "pipe = Pipeline(steps=[('scaler', scaler), ('GaussianNB', clf) ])\n",
    "estimator = GridSearchCV(pipe, param_grid, cv=10, scoring='f1_macro', n_jobs=-1)\n",
    "start_time = time.time()\n",
    "estimator.fit(X_train_ros, y_train_ros)\n",
    "preds = estimator.predict(X_test)\n",
    "print(\"Total time fit and predict: %s seconds\" % (time.time() - start_time))\n",
    "print(classification_report(y_test, preds))\n",
    "print(estimator.best_score_)\n",
    "print(estimator.best_params_)"
   ]
  },
  {
   "cell_type": "markdown",
   "metadata": {},
   "source": [
    "## __Multi-Layer Perceptron__()"
   ]
  },
  {
   "cell_type": "code",
   "execution_count": 71,
   "metadata": {},
   "outputs": [
    {
     "name": "stdout",
     "output_type": "stream",
     "text": [
      "Total time fit and predict: 1328.870459318161 seconds\n",
      "              precision    recall  f1-score   support\n",
      "\n",
      "           0       0.95      0.98      0.96       246\n",
      "           1       0.92      0.95      0.94       231\n",
      "           2       0.98      0.95      0.97       479\n",
      "\n",
      "    accuracy                           0.96       956\n",
      "   macro avg       0.95      0.96      0.96       956\n",
      "weighted avg       0.96      0.96      0.96       956\n",
      "\n",
      "0.9792031777766604\n",
      "{'MLP__alpha': 0.005, 'MLP__hidden_layer_sizes': (100,), 'MLP__learning_rate': 'adaptive', 'MLP__solver': 'adam', 'pca__n_components': 180}\n"
     ]
    }
   ],
   "source": [
    "solver = ['lbfgs', 'sgd', 'adam']\n",
    "hidden_layers = [(10,), (20,), (100,)]\n",
    "learning_rate = ['constant', 'adaptive']\n",
    "alpha = [0.0001, 0.005, 0.05]\n",
    "param_grid = dict(pca__n_components=n_components, MLP__learning_rate = learning_rate, MLP__hidden_layer_sizes = hidden_layers, MLP__solver = solver, MLP__alpha = alpha)\n",
    "clf = MLPClassifier()\n",
    "pipe = Pipeline(steps=[('pca', pca), ('MLP', clf) ], memory = 'tmp')\n",
    "estimator = GridSearchCV(pipe, param_grid, cv=10, scoring='f1_macro', n_jobs=-1)\n",
    "start_time = time.time()\n",
    "estimator.fit(X_train_ros, y_train_ros)\n",
    "preds = estimator.predict(X_test)\n",
    "print(\"Total time fit and predict: %s seconds\" % (time.time() - start_time))\n",
    "print(classification_report(y_test, preds))\n",
    "print(estimator.best_score_)\n",
    "print(estimator.best_params_)"
   ]
  },
  {
   "cell_type": "markdown",
   "metadata": {},
   "source": [
    "## __SVMClassifier()__"
   ]
  },
  {
   "cell_type": "code",
   "execution_count": 73,
   "metadata": {
    "scrolled": true
   },
   "outputs": [
    {
     "name": "stdout",
     "output_type": "stream",
     "text": [
      "Total time fit and predict: 401.87223267555237 seconds\n",
      "              precision    recall  f1-score   support\n",
      "\n",
      "           0       0.96      0.84      0.89       246\n",
      "           1       0.93      0.92      0.93       231\n",
      "           2       0.91      0.98      0.94       479\n",
      "\n",
      "    accuracy                           0.93       956\n",
      "   macro avg       0.93      0.91      0.92       956\n",
      "weighted avg       0.93      0.93      0.93       956\n",
      "\n",
      "0.9813335153232622\n",
      "{'SVC__C': 100, 'SVC__gamma': 0.1, 'SVC__kernel': 'rbf', 'pca__n_components': 100}\n"
     ]
    }
   ],
   "source": [
    "C = [0.1, 1, 10, 100, 1000]\n",
    "gamma = [1, 0.1, 0.01, 0.001, 0.0001]\n",
    "#kernel = ['rbf', 'linear', 'poly', 'sigmoid', 'precomputed']  \n",
    "kernel = ['rbf']\n",
    "param_grid = dict( pca__n_components=n_components, SVC__kernel = kernel, SVC__C = C, SVC__gamma = gamma)\n",
    "clf = SVC()\n",
    "pipe = Pipeline(steps=[('pca', pca), ('SVC', clf) ])\n",
    "estimator = GridSearchCV(pipe, param_grid, cv=10, scoring='f1_macro', n_jobs=-1)\n",
    "start_time = time.time()\n",
    "estimator.fit(X_train_ros, y_train_ros)\n",
    "preds = estimator.predict(X_test)\n",
    "print(\"Total time fit and predict: %s seconds\" % (time.time() - start_time))\n",
    "print(classification_report(y_test, preds))\n",
    "print(estimator.best_score_)\n",
    "print(estimator.best_params_)"
   ]
  },
  {
   "cell_type": "markdown",
   "metadata": {},
   "source": [
    "SVM with other kernels than rbf never ended and timed out the kernel "
   ]
  },
  {
   "cell_type": "markdown",
   "metadata": {},
   "source": [
    "| Classifier             | Accuracy   | F1-score | Improvement % | Time (sec)|\n",
    "|------------------------|------------|----------|---------------|-----------|\n",
    "| Gaussian Naive Bayes   | 0.9517893759152202     | 0.94     | 1.00877 |  0.6963 |     \n",
    "| K Neirest Neighbors    | 0.8936072447751158     | 0.88     | 1.03928 |  1947.5439|     \n",
    "| Logistic Regression    | 0.9695277845283045     | 0.93     | 1.02416 | 199.4397|       \n",
    "| Multi-Layer Perceptron | 0.9792031777766604     | 0.96     | 1.02644 | 1328.8704|      \n",
    "| SVM (kernel = rbf)     | 0.9813335153232622     | 0.93     | 1.0208 | 401.8722|          "
   ]
  },
  {
   "cell_type": "markdown",
   "metadata": {},
   "source": [
    "We observe that the best score is achieved in the SVM classifier. Grid search has helped a lot the K-NN classifier to improve, and as he has the biggest increment of all after the grid search. We we definately choose SVM with rbf kernel as he has the best score which is quite high, even in the out of the box performance."
   ]
  }
 ],
 "metadata": {
  "anaconda-cloud": {},
  "celltoolbar": "Slideshow",
  "colab": {
   "name": "OpenML Python API.ipynb",
   "provenance": []
  },
  "colabVersion": "0.1",
  "kernelspec": {
   "display_name": "Python 3 (ipykernel)",
   "language": "python",
   "name": "python3"
  },
  "language_info": {
   "codemirror_mode": {
    "name": "ipython",
    "version": 3
   },
   "file_extension": ".py",
   "mimetype": "text/x-python",
   "name": "python",
   "nbconvert_exporter": "python",
   "pygments_lexer": "ipython3",
   "version": "3.9.5"
  }
 },
 "nbformat": 4,
 "nbformat_minor": 1
}
